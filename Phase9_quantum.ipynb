{
  "nbformat": 4,
  "nbformat_minor": 0,
  "metadata": {
    "colab": {
      "provenance": [],
      "machine_shape": "hm",
      "mount_file_id": "1gj6VDs6TQwuP_0aamFGftfk0hyYSOMhI",
      "authorship_tag": "ABX9TyN53/5iT2/pcTHij0OTIS+O",
      "include_colab_link": true
    },
    "kernelspec": {
      "name": "python3",
      "display_name": "Python 3"
    },
    "language_info": {
      "name": "python"
    }
  },
  "cells": [
    {
      "cell_type": "markdown",
      "metadata": {
        "id": "view-in-github",
        "colab_type": "text"
      },
      "source": [
        "<a href=\"https://colab.research.google.com/github/TheSpiralArchitect/spiral-resonance-validation/blob/main/Phase9_quantum.ipynb\" target=\"_parent\"><img src=\"https://colab.research.google.com/assets/colab-badge.svg\" alt=\"Open In Colab\"/></a>"
      ]
    },
    {
      "cell_type": "code",
      "source": [
        "# --- Install QuTiP ---\n",
        "!pip install qutip --quiet\n",
        "\n",
        "# --- Imports ---\n",
        "import numpy as np\n",
        "import qutip as qt\n",
        "\n",
        "# --- Parameters ---\n",
        "omega = 0.1103\n",
        "n = 3\n",
        "theta = np.pi / 4\n",
        "r = np.exp(theta)\n",
        "p = 0.05  # depolarizing noise level\n",
        "\n",
        "# --- Spiral Gate ---\n",
        "def spiral_gate(omega, n, r):\n",
        "    phase = np.exp(1j * (omega * np.log(r) + n * theta))\n",
        "    return qt.Qobj([[1, 0], [0, phase]])\n",
        "\n",
        "# --- Manual Fidelity Function ---\n",
        "def compute_fidelity(state1, state2):\n",
        "    return abs(state1.overlap(state2))**2\n",
        "\n",
        "# --- Spiral Echo Recovery ---\n",
        "def apply_spiral_echo(state, gate, p):\n",
        "    noisy_state = (1 - p) * (gate * state) + p * qt.rand_ket(2)\n",
        "    recovered = gate.dag() * noisy_state\n",
        "    return recovered.unit()\n",
        "\n",
        "# --- Run Simulation ---\n",
        "psi_0 = qt.basis(2, 0)\n",
        "U_spiral = spiral_gate(omega, n, r)\n",
        "psi_target = U_spiral * psi_0\n",
        "psi_recovered = apply_spiral_echo(psi_0, U_spiral, p)\n",
        "\n",
        "spiral_fid = compute_fidelity(psi_target, psi_recovered)\n",
        "\n",
        "# --- Output ---\n",
        "print(f\"✅ Spiral Echo Fidelity: {spiral_fid:.6f}\")"
      ],
      "metadata": {
        "colab": {
          "base_uri": "https://localhost:8080/"
        },
        "id": "aXmm5lD1WYFP",
        "outputId": "ebfd0f6d-7337-419c-921e-59a3f2409e78"
      },
      "execution_count": null,
      "outputs": [
        {
          "output_type": "stream",
          "name": "stdout",
          "text": [
            "✅ Spiral Echo Fidelity: 0.999878\n"
          ]
        }
      ]
    },
    {
      "cell_type": "code",
      "source": [
        "# --- Phase 9.2: Spiral Gate Fidelity Sweep (Clean Colab Version) ---\n",
        "import numpy as np\n",
        "import pandas as pd\n",
        "from qutip import Qobj, basis\n",
        "\n",
        "# --- Spiral Gate Constructor ---\n",
        "def create_spiral_gate(theta, omega, n):\n",
        "    phase = omega * np.log(theta + 1e-8) + n * theta\n",
        "    return Qobj([[1, 0], [0, np.exp(1j * phase)]])\n",
        "\n",
        "# --- Spiral Echo Application ---\n",
        "def apply_spiral_echo(state, gate, p):\n",
        "    noisy_forward = (1 - p) * (gate * state) + p * ((gate * state).dag().dag())\n",
        "    recovered = gate.dag() * noisy_forward\n",
        "    return recovered.unit()\n",
        "\n",
        "# --- Fidelity Calculator (Safe) ---\n",
        "def compute_fidelity(state1, state2):\n",
        "    product = state1.dag() * state2\n",
        "    if isinstance(product, Qobj):\n",
        "        return abs(product.full()[0, 0])**2\n",
        "    else:\n",
        "        return abs(product)**2\n",
        "\n",
        "# --- Sweep Parameters ---\n",
        "omega_values = np.linspace(0.01, 0.5, 20)\n",
        "n_values = np.arange(1, 6)\n",
        "theta = np.pi / 4\n",
        "p = 0.05\n",
        "psi_0 = basis(2, 0)\n",
        "\n",
        "# --- Run Sweep ---\n",
        "results = []\n",
        "for omega in omega_values:\n",
        "    for n in n_values:\n",
        "        gate = create_spiral_gate(theta, omega, n)\n",
        "        target = gate * psi_0\n",
        "        recovered = apply_spiral_echo(psi_0, gate, p)\n",
        "        fid = compute_fidelity(target, recovered)\n",
        "        results.append({\"omega\": omega, \"n\": n, \"fidelity\": fid})\n",
        "\n",
        "# --- Save to CSV ---\n",
        "df = pd.DataFrame(results)\n",
        "df.to_csv(\"/content/drive/MyDrive/SRL/phase9_fidelity_sweep.csv\", index=False)\n",
        "print(\"✅ Sweep completed and saved to phase9_fidelity_sweep.csv\")\n",
        "print(df.head())"
      ],
      "metadata": {
        "colab": {
          "base_uri": "https://localhost:8080/"
        },
        "id": "WZunX28iWv-q",
        "outputId": "17bc5544-9d3e-4c2b-a519-ed8476290864"
      },
      "execution_count": null,
      "outputs": [
        {
          "output_type": "stream",
          "name": "stdout",
          "text": [
            "✅ Sweep completed and saved to phase9_fidelity_sweep.csv\n",
            "   omega  n  fidelity\n",
            "0   0.01  1       1.0\n",
            "1   0.01  2       1.0\n",
            "2   0.01  3       1.0\n",
            "3   0.01  4       1.0\n",
            "4   0.01  5       1.0\n"
          ]
        }
      ]
    },
    {
      "cell_type": "code",
      "source": [
        "# --- Install & Imports ---\n",
        "!pip install qutip --quiet\n",
        "\n",
        "import numpy as np\n",
        "import qutip as qt\n",
        "\n",
        "# --- Spiral Parameters ---\n",
        "omega = 0.1103\n",
        "n = 3\n",
        "k = 0.02\n",
        "p = 0.05\n",
        "\n",
        "# --- Spiral Gate Generator (2-Qubit) ---\n",
        "def spiral_gate_2q(omega, n):\n",
        "    theta = np.pi / 2\n",
        "    spiral_phase = lambda i: np.exp(1j * (omega * np.log(i + 1) + n * theta))\n",
        "    return qt.Qobj(np.diag([spiral_phase(i) for i in range(4)]))\n",
        "\n",
        "# --- Spiral Echo Recovery ---\n",
        "def apply_spiral_echo_2q(psi, gate, p):\n",
        "    noisy = (1 - p) * (gate * psi) + p * psi\n",
        "    recovered = gate.dag() * noisy\n",
        "    return recovered.unit()\n",
        "\n",
        "# --- Manual Fidelity Function (Clean & Safe) ---\n",
        "def compute_fidelity(psi1, psi2):\n",
        "    overlap = (psi1.dag() * psi2)\n",
        "    return abs(overlap[0, 0])**2 if isinstance(overlap, qt.Qobj) else abs(overlap)**2\n",
        "\n",
        "# --- Bell State |Φ+⟩ = (|00⟩ + |11⟩)/√2 ---\n",
        "bell_state = (qt.basis(4, 0) + qt.basis(4, 3)).unit()\n",
        "\n",
        "# --- Apply Spiral Gate and Recovery ---\n",
        "U_spiral = spiral_gate_2q(omega, n)\n",
        "target = U_spiral * bell_state\n",
        "recovered = apply_spiral_echo_2q(bell_state, U_spiral, p)\n",
        "\n",
        "# --- Fidelity ---\n",
        "fidelity = compute_fidelity(target, recovered)\n",
        "print(f\"✅ 2-Qubit Spiral Echo Fidelity: {fidelity:.6f}\")"
      ],
      "metadata": {
        "colab": {
          "base_uri": "https://localhost:8080/"
        },
        "id": "clOrKGqNWwJW",
        "outputId": "fffbf14e-6985-4144-8f2d-f8b6f57e1f44"
      },
      "execution_count": null,
      "outputs": [
        {
          "output_type": "stream",
          "name": "stdout",
          "text": [
            "✅ 2-Qubit Spiral Echo Fidelity: 0.994072\n"
          ]
        }
      ]
    },
    {
      "cell_type": "code",
      "source": [
        "!pip install qutip qutip-qip --quiet\n",
        "\n",
        "from qutip import *\n",
        "import numpy as np"
      ],
      "metadata": {
        "id": "ZYqBlM8rlsyv"
      },
      "execution_count": null,
      "outputs": []
    },
    {
      "cell_type": "code",
      "source": [
        "def spiral_phase_gate(omega=0.1, n=3, r=1):\n",
        "    \"\"\"Diagonal spiral gate: U = diag(1, exp(i(ω log r + nθ)))\"\"\"\n",
        "    theta = np.pi / 4  # Arbitrary angle for now; can vary per test\n",
        "    phase = omega * np.log(r + 1e-9) + n * theta\n",
        "    return Qobj([[1, 0], [0, np.exp(1j * phase)]])"
      ],
      "metadata": {
        "id": "bwj-E2ehlvf4"
      },
      "execution_count": null,
      "outputs": []
    },
    {
      "cell_type": "code",
      "source": [
        "def compute_fidelity(state1, state2):\n",
        "    return abs(state1.overlap(state2))**2\n",
        "\n",
        "# Initial state\n",
        "psi = basis(2, 0)  # |0⟩\n",
        "\n",
        "# Spiral Gate\n",
        "U = spiral_phase_gate()\n",
        "psi_spiral = U * psi\n",
        "\n",
        "# Noise (depolarizing)\n",
        "def depolarize(rho, p=0.05):\n",
        "    return (1 - p) * rho + p * qeye(2) / 2\n",
        "\n",
        "rho_noisy = depolarize(psi_spiral.proj())\n",
        "\n",
        "# Spiral Echo Recovery\n",
        "psi_recovered = U.dag() * rho_noisy * U\n",
        "fidelity = compute_fidelity(psi, psi_recovered.ptrace(0))\n",
        "\n",
        "print(f\"Spiral Echo Fidelity: {fidelity:.4f}\")"
      ],
      "metadata": {
        "colab": {
          "base_uri": "https://localhost:8080/"
        },
        "id": "cuQzZlA1lyG3",
        "outputId": "ef37a21a-b0e3-4e86-d45b-32f22384479a"
      },
      "execution_count": null,
      "outputs": [
        {
          "output_type": "stream",
          "name": "stdout",
          "text": [
            "Spiral Echo Fidelity: 0.9506\n"
          ]
        }
      ]
    },
    {
      "cell_type": "code",
      "source": [
        "# --- Install Qutip if not already installed ---\n",
        "# !pip install qutip --quiet  # Uncomment if needed\n",
        "\n",
        "import numpy as np\n",
        "import pandas as pd\n",
        "from qutip import *\n",
        "\n",
        "# --- Sweep Parameters ---\n",
        "omega_values = np.linspace(0.01, 0.2, 20)  # Spiral frequencies ω\n",
        "n_values = np.arange(1, 7)                 # Harmonic modes n = 1 to 6\n",
        "p_noise = 0.05                             # Depolarizing noise probability\n",
        "\n",
        "# --- Constants ---\n",
        "theta = np.pi / 4\n",
        "r = 1.0  # Fixed radius\n",
        "\n",
        "# --- Helper Functions ---\n",
        "def spiral_phase_gate(omega, n, r=1.0):\n",
        "    phase = omega * np.log(r + 1e-9) + n * theta\n",
        "    return Qobj([[1, 0], [0, np.exp(1j * phase)]], dims=[[2], [2]])\n",
        "\n",
        "def depolarize(rho, p=0.05):\n",
        "    return (1 - p) * rho + p * qeye(2) / 2\n",
        "\n",
        "def compute_fidelity(state1, state2):\n",
        "    return abs(state1.overlap(state2))**2\n",
        "\n",
        "# --- Run Sweep ---\n",
        "results = []\n",
        "psi0 = basis(2, 0)\n",
        "\n",
        "for omega in omega_values:\n",
        "    for n in n_values:\n",
        "        U = spiral_phase_gate(omega, n)\n",
        "        psi_spiral = U * psi0\n",
        "        rho_noisy = depolarize(psi_spiral.proj(), p=p_noise)\n",
        "        rho_recovered = U.dag() * rho_noisy * U\n",
        "        fidelity = compute_fidelity(psi0, rho_recovered.ptrace(0))\n",
        "        results.append({\n",
        "            \"omega\": omega,\n",
        "            \"n\": n,\n",
        "            \"fidelity\": fidelity\n",
        "        })\n",
        "\n",
        "# --- Convert to DataFrame and Save ---\n",
        "df = pd.DataFrame(results)\n",
        "df.to_csv(\"spiral_echo_fidelity_sweep.csv\", index=False)\n",
        "\n",
        "# --- Optional: Display First Rows ---\n",
        "print(df.head())"
      ],
      "metadata": {
        "colab": {
          "base_uri": "https://localhost:8080/"
        },
        "id": "vPSo9RzVmQXl",
        "outputId": "63fc4bbe-e5d6-4ee6-a4b7-1bf76fda956c"
      },
      "execution_count": null,
      "outputs": [
        {
          "output_type": "stream",
          "name": "stdout",
          "text": [
            "   omega  n  fidelity\n",
            "0   0.01  1  0.950625\n",
            "1   0.01  2  0.950625\n",
            "2   0.01  3  0.950625\n",
            "3   0.01  4  0.950625\n",
            "4   0.01  5  0.950625\n"
          ]
        }
      ]
    },
    {
      "cell_type": "code",
      "source": [
        "from qutip import *\n",
        "import numpy as np\n",
        "\n",
        "# --- Spiral Gate (1-qubit) ---\n",
        "def spiral_gate(omega, n):\n",
        "    theta = np.pi / 4\n",
        "    phase = omega * np.log(1.0 + 1e-9) + n * theta\n",
        "    return Qobj([[1, 0], [0, np.exp(1j * phase)]], dims=[[2], [2]])\n",
        "\n",
        "# --- GHZ State |000⟩ + |111⟩ ---\n",
        "zero = basis(2, 0)\n",
        "one = basis(2, 1)\n",
        "ghz = (tensor(zero, zero, zero) + tensor(one, one, one)).unit()\n",
        "rho_ghz = ghz.proj()\n",
        "\n",
        "# --- Spiral Gate Parameters ---\n",
        "omega = 0.1\n",
        "n = 3\n",
        "U = spiral_gate(omega, n)\n",
        "U3 = tensor(U, U, U)\n",
        "\n",
        "# --- Apply Spiral Gate to GHZ ---\n",
        "rho_spiral = U3 * rho_ghz * U3.dag()\n",
        "\n",
        "# --- Depolarizing Noise ---\n",
        "def depolarize_nqubit(rho, p=0.05, N=3):\n",
        "    I = tensor([qeye(2)] * N)\n",
        "    return (1 - p) * rho + p * (I / (2**N))\n",
        "\n",
        "rho_noisy = depolarize_nqubit(rho_spiral, p=0.05)\n",
        "\n",
        "# --- Spiral Echo Recovery ---\n",
        "rho_recovered = U3.dag() * rho_noisy * U3\n",
        "\n",
        "# --- USE QuTiP's BUILT-IN FIDELITY FUNCTION ---\n",
        "fidelity_value = fidelity(rho_recovered, ghz)\n",
        "print(f\"GHZ Spiral Echo Fidelity: {fidelity_value:.6f}\")"
      ],
      "metadata": {
        "colab": {
          "base_uri": "https://localhost:8080/"
        },
        "id": "RnqfIvC6nnpv",
        "outputId": "1f439512-f2fa-4974-f689-4ccb548d8fc7"
      },
      "execution_count": null,
      "outputs": [
        {
          "output_type": "stream",
          "name": "stdout",
          "text": [
            "GHZ Spiral Echo Fidelity: 0.977880\n"
          ]
        }
      ]
    },
    {
      "cell_type": "code",
      "source": [
        "from qutip import *\n",
        "import numpy as np\n",
        "\n",
        "# --- GHZ State ---\n",
        "zero, one = basis(2, 0), basis(2, 1)\n",
        "ghz = (tensor(zero, zero, zero) + tensor(one, one, one)).unit()\n",
        "rho_ghz = ghz.proj()\n",
        "\n",
        "# --- Spiral Gate (SRL) ---\n",
        "def spiral_gate(omega, n):\n",
        "    theta = np.pi / 4\n",
        "    phase = omega * np.log(1.0 + 1e-9) + n * theta\n",
        "    return Qobj([[1, 0], [0, np.exp(1j * phase)]], dims=[[2], [2]])\n",
        "\n",
        "omega, n = 0.1, 3\n",
        "U_spiral = spiral_gate(omega, n)\n",
        "U_spiral_total = tensor(U_spiral, U_spiral, U_spiral)\n",
        "\n",
        "# --- Hadamard Gate ---\n",
        "H = (1/np.sqrt(2)) * Qobj([[1, 1], [1, -1]])\n",
        "U_hadamard_total = tensor(H, H, H)\n",
        "\n",
        "# --- Noise Model (3 Qubits) ---\n",
        "def depolarize_nqubit(rho, p=0.05, N=3):\n",
        "    I = tensor([qeye(2)] * N)\n",
        "    return (1 - p) * rho + p * (I / (2**N))\n",
        "\n",
        "# --- Spiral Echo Process ---\n",
        "rho_spiral = U_spiral_total * rho_ghz * U_spiral_total.dag()\n",
        "rho_spiral_noisy = depolarize_nqubit(rho_spiral, p=0.05)\n",
        "rho_spiral_recovered = U_spiral_total.dag() * rho_spiral_noisy * U_spiral_total\n",
        "fidelity_spiral = fidelity(rho_spiral_recovered, ghz)\n",
        "\n",
        "# --- Hadamard Echo Process ---\n",
        "rho_hadamard = U_hadamard_total * rho_ghz * U_hadamard_total.dag()\n",
        "rho_hadamard_noisy = depolarize_nqubit(rho_hadamard, p=0.05)\n",
        "rho_hadamard_recovered = U_hadamard_total.dag() * rho_hadamard_noisy * U_hadamard_total\n",
        "fidelity_hadamard = fidelity(rho_hadamard_recovered, ghz)\n",
        "\n",
        "# --- Results ---\n",
        "print(f\"GHZ Spiral Echo Fidelity:   {fidelity_spiral:.6f}\")\n",
        "print(f\"GHZ Hadamard Echo Fidelity: {fidelity_hadamard:.6f}\")"
      ],
      "metadata": {
        "colab": {
          "base_uri": "https://localhost:8080/"
        },
        "id": "98GfcRsPn32x",
        "outputId": "4d6deed3-905f-45c4-b59a-225c5eee1fac"
      },
      "execution_count": null,
      "outputs": [
        {
          "output_type": "stream",
          "name": "stdout",
          "text": [
            "GHZ Spiral Echo Fidelity:   0.977880\n",
            "GHZ Hadamard Echo Fidelity: 0.977880\n"
          ]
        }
      ]
    },
    {
      "cell_type": "code",
      "source": [
        "from qutip import *\n",
        "import numpy as np\n",
        "\n",
        "# --- GHZ State ---\n",
        "zero, one = basis(2, 0), basis(2, 1)\n",
        "ghz = (tensor(zero, zero, zero) + tensor(one, one, one)).unit()\n",
        "rho_ghz = ghz.proj()\n",
        "\n",
        "# --- Hadamard and Spiral Gates ---\n",
        "H = (1/np.sqrt(2)) * Qobj([[1, 1], [1, -1]])\n",
        "U_H = tensor(H, H, H)\n",
        "\n",
        "def spiral_gate(omega, n):\n",
        "    theta = np.pi / 4\n",
        "    phase = omega * np.log(1.0 + 1e-9) + n * theta\n",
        "    return Qobj([[1, 0], [0, np.exp(1j * phase)]], dims=[[2], [2]])\n",
        "\n",
        "omega, n = 0.1, 3\n",
        "U_S = spiral_gate(omega, n)\n",
        "U_S_total = tensor(U_S, U_S, U_S)\n",
        "\n",
        "# --- Noise ---\n",
        "def depolarize_nqubit(rho, p=0.05, N=3):\n",
        "    I = tensor([qeye(2)] * N)\n",
        "    return (1 - p) * rho + p * (I / (2**N))\n",
        "\n",
        "# --- Apply Hadamard → Spiral → Noise ---\n",
        "rho_encoded = U_S_total * U_H * rho_ghz * U_H.dag() * U_S_total.dag()\n",
        "rho_noisy = depolarize_nqubit(rho_encoded, p=0.05)\n",
        "\n",
        "# --- Apply Spiral† → Hadamard† ---\n",
        "rho_recovered = U_H.dag() * U_S_total.dag() * rho_noisy * U_S_total * U_H\n",
        "\n",
        "# --- Fidelity ---\n",
        "fidelity_value = fidelity(rho_recovered, ghz)\n",
        "print(f\"Hybrid Hadamard × Spiral Echo Fidelity: {fidelity_value:.6f}\")"
      ],
      "metadata": {
        "colab": {
          "base_uri": "https://localhost:8080/"
        },
        "id": "RZ77xd7uoQLb",
        "outputId": "2dd369bb-a93d-4a51-aded-ed9969efca69"
      },
      "execution_count": null,
      "outputs": [
        {
          "output_type": "stream",
          "name": "stdout",
          "text": [
            "Hybrid Hadamard × Spiral Echo Fidelity: 0.977880\n"
          ]
        }
      ]
    },
    {
      "cell_type": "code",
      "source": [
        "from qutip import *\n",
        "import numpy as np\n",
        "import pandas as pd\n",
        "\n",
        "# --- GHZ State ---\n",
        "zero, one = basis(2, 0), basis(2, 1)\n",
        "ghz = (tensor(zero, zero, zero) + tensor(one, one, one)).unit()\n",
        "rho_ghz = ghz.proj()\n",
        "\n",
        "# --- Hadamard ---\n",
        "H = (1/np.sqrt(2)) * Qobj([[1, 1], [1, -1]])\n",
        "U_H = tensor(H, H, H)\n",
        "\n",
        "# --- Spiral Generator ---\n",
        "def spiral_gate(omega, n):\n",
        "    theta = np.pi / 4\n",
        "    phase = omega * np.log(1.0 + 1e-9) + n * theta\n",
        "    return Qobj([[1, 0], [0, np.exp(1j * phase)]], dims=[[2], [2]])\n",
        "\n",
        "# --- Depolarizing Noise ---\n",
        "def depolarize_nqubit(rho, p=0.05, N=3):\n",
        "    I = tensor([qeye(2)] * N)\n",
        "    return (1 - p) * rho + p * (I / (2**N))\n",
        "\n",
        "# --- Sweep Setup ---\n",
        "omega_vals = np.linspace(0.01, 0.3, 30)\n",
        "n_vals = range(1, 7)\n",
        "results = []\n",
        "\n",
        "for omega in omega_vals:\n",
        "    for n in n_vals:\n",
        "        U_S = spiral_gate(omega, n)\n",
        "        U_S_total = tensor(U_S, U_S, U_S)\n",
        "\n",
        "        # Encode: Hadamard → Spiral\n",
        "        rho_encoded = U_S_total * U_H * rho_ghz * U_H.dag() * U_S_total.dag()\n",
        "        rho_noisy = depolarize_nqubit(rho_encoded, p=0.05)\n",
        "\n",
        "        # Recover: Spiral† → Hadamard†\n",
        "        rho_recovered = U_H.dag() * U_S_total.dag() * rho_noisy * U_S_total * U_H\n",
        "        fid = fidelity(rho_recovered, ghz)\n",
        "\n",
        "        results.append({\"omega\": omega, \"n\": n, \"fidelity\": fid})\n",
        "\n",
        "# Save and show\n",
        "df = pd.DataFrame(results)\n",
        "best = df.loc[df['fidelity'].idxmax()]\n",
        "print(f\"Best Fidelity: {best['fidelity']:.6f} at ω = {best['omega']:.3f}, n = {int(best['n'])}\")"
      ],
      "metadata": {
        "colab": {
          "base_uri": "https://localhost:8080/"
        },
        "id": "sYD_IiDRo7kc",
        "outputId": "799b2f2d-27ba-4ea6-8964-d9ff8ed474fa"
      },
      "execution_count": null,
      "outputs": [
        {
          "output_type": "stream",
          "name": "stdout",
          "text": [
            "Best Fidelity: 0.977880 at ω = 0.030, n = 3\n"
          ]
        }
      ]
    },
    {
      "cell_type": "code",
      "source": [
        "from qutip import *\n",
        "import numpy as np\n",
        "\n",
        "# --- GHZ State ---\n",
        "zero, one = basis(2, 0), basis(2, 1)\n",
        "ghz = (tensor(zero, zero, zero) + tensor(one, one, one)).unit()\n",
        "rho_ghz = ghz.proj()\n",
        "\n",
        "# --- Spiral Gate Constructor ---\n",
        "def spiral_gate(omega, n):\n",
        "    theta = np.pi / 4\n",
        "    phase = omega * np.log(1.0 + 1e-9) + n * theta\n",
        "    return Qobj([[1, 0], [0, np.exp(1j * phase)]], dims=[[2], [2]])\n",
        "\n",
        "# --- Noise Function ---\n",
        "def depolarize_nqubit(rho, p=0.05, N=3):\n",
        "    I = tensor([qeye(2)] * N)\n",
        "    return (1 - p) * rho + p * (I / (2**N))\n",
        "\n",
        "# --- Define Spiral Chain Parameters ---\n",
        "omega_vals = [0.05, 0.07, 0.09]\n",
        "n_vals = [2, 3, 4]\n",
        "\n",
        "# --- Build Spiral Chain ---\n",
        "U_chain = []\n",
        "for omega, n in zip(omega_vals, n_vals):\n",
        "    U = spiral_gate(omega, n)\n",
        "    U_chain.append(tensor(U, U, U))\n",
        "\n",
        "# --- Forward Encoding ---\n",
        "U_forward = U_chain[2] * U_chain[1] * U_chain[0]\n",
        "rho_encoded = U_forward * rho_ghz * U_forward.dag()\n",
        "\n",
        "# --- Noise ---\n",
        "rho_noisy = depolarize_nqubit(rho_encoded, p=0.05)\n",
        "\n",
        "# --- Reverse Decoding ---\n",
        "U_inverse = U_chain[0].dag() * U_chain[1].dag() * U_chain[2].dag()\n",
        "rho_recovered = U_inverse * rho_noisy * U_inverse.dag()\n",
        "\n",
        "# --- Fidelity ---\n",
        "fidelity_value = fidelity(rho_recovered, ghz)\n",
        "print(f\"3-Layer Spiral Chain Echo Fidelity: {fidelity_value:.6f}\")"
      ],
      "metadata": {
        "colab": {
          "base_uri": "https://localhost:8080/"
        },
        "id": "eBE51qg5pZdZ",
        "outputId": "a399aa33-0eca-4b2b-c47c-51afa47307f0"
      },
      "execution_count": null,
      "outputs": [
        {
          "output_type": "stream",
          "name": "stdout",
          "text": [
            "3-Layer Spiral Chain Echo Fidelity: 0.977880\n"
          ]
        }
      ]
    },
    {
      "cell_type": "code",
      "source": [
        "from qutip import *\n",
        "import numpy as np\n",
        "\n",
        "# --- GHZ State ---\n",
        "zero = basis(2, 0)\n",
        "one = basis(2, 1)\n",
        "ghz = (tensor(zero, zero, zero) + tensor(one, one, one)).unit()\n",
        "rho = ghz.proj()\n",
        "\n",
        "# --- Spiral Gate Generator ---\n",
        "def spiral_gate(omega, n):\n",
        "    theta = np.pi / 4\n",
        "    phase = omega * np.log(1.0 + 1e-9) + n * theta\n",
        "    return Qobj([[1, 0], [0, np.exp(1j * phase)]], dims=[[2], [2]])\n",
        "\n",
        "# --- Spiral Parameters ---\n",
        "omegas = [0.05, 0.07, 0.09]\n",
        "ns = [2, 3, 4]\n",
        "U_list = [tensor(spiral_gate(w, n), spiral_gate(w, n), spiral_gate(w, n))\n",
        "          for w, n in zip(omegas, ns)]\n",
        "\n",
        "# --- Depolarizing Noise ---\n",
        "def depolarize_nqubit(rho, p=0.05, N=3):\n",
        "    I = tensor([qeye(2)] * N)\n",
        "    return (1 - p) * rho + p * (I / (2 ** N))\n",
        "\n",
        "# --- Track Fidelity ---\n",
        "fidelities = []\n",
        "fidelities.append(fidelity(rho, ghz))  # Initial\n",
        "\n",
        "# Apply spiral layers (encoding)\n",
        "for U in U_list:\n",
        "    rho = U * rho * U.dag()\n",
        "    fidelities.append(fidelity(rho, ghz))\n",
        "\n",
        "# Apply noise\n",
        "rho = depolarize_nqubit(rho, p=0.05)\n",
        "fidelities.append(fidelity(rho, ghz))\n",
        "\n",
        "# Apply inverse spiral layers (decoding)\n",
        "for U in reversed(U_list):\n",
        "    rho = U.dag() * rho * U\n",
        "    fidelities.append(fidelity(rho, ghz))\n",
        "\n",
        "# --- Output ---\n",
        "labels = [\n",
        "    \"Initial\",\n",
        "    \"After Spiral 1\",\n",
        "    \"After Spiral 2\",\n",
        "    \"After Spiral 3\",\n",
        "    \"After Noise\",\n",
        "    \"After Recovery 1\",\n",
        "    \"After Recovery 2\",\n",
        "    \"After Recovery 3 (Final)\"\n",
        "]\n",
        "\n",
        "for label, val in zip(labels, fidelities):\n",
        "    print(f\"{label}: {val:.6f}\")"
      ],
      "metadata": {
        "id": "FCAo4SGkp4wu",
        "colab": {
          "base_uri": "https://localhost:8080/"
        },
        "outputId": "391743b2-bb6c-4453-b675-addeec3ef55d"
      },
      "execution_count": 43,
      "outputs": [
        {
          "output_type": "stream",
          "name": "stdout",
          "text": [
            "Initial: 1.000000\n",
            "After Spiral 1: 0.707107\n",
            "After Spiral 2: 0.923880\n",
            "After Spiral 3: 0.382683\n",
            "After Noise: 0.381280\n",
            "After Recovery 1: 0.903950\n",
            "After Recovery 2: 0.693722\n",
            "After Recovery 3 (Final): 0.977880\n"
          ]
        }
      ]
    },
    {
      "cell_type": "code",
      "source": [
        "from qutip import *\n",
        "import numpy as np\n",
        "\n",
        "# --- GHZ State ---\n",
        "zero, one = basis(2, 0), basis(2, 1)\n",
        "ghz = (tensor(zero, zero, zero) + tensor(one, one, one)).unit()\n",
        "rho = ghz.proj()\n",
        "\n",
        "# --- Spiral Gate Generator ---\n",
        "def spiral_gate(omega, n):\n",
        "    theta = np.pi / 4\n",
        "    phase = omega * np.log(1.0 + 1e-9) + n * theta\n",
        "    return Qobj([[1, 0], [0, np.exp(1j * phase)]], dims=[[2], [2]])\n",
        "\n",
        "# --- Symmetric Spiral Parameters ---\n",
        "omega_base = 0.06\n",
        "n_base = 3\n",
        "\n",
        "params = [\n",
        "    (omega_base, n_base),        # Spiral 1\n",
        "    (2 * omega_base, n_base),    # Spiral 2 (deeper)\n",
        "    (omega_base, n_base)         # Spiral 3 (mirror)\n",
        "]\n",
        "\n",
        "# Build unitary chain\n",
        "U_list = [tensor(spiral_gate(w, n), spiral_gate(w, n), spiral_gate(w, n))\n",
        "          for w, n in params]\n",
        "\n",
        "# --- Depolarizing Noise ---\n",
        "def depolarize_nqubit(rho, p=0.05, N=3):\n",
        "    I = tensor([qeye(2)] * N)\n",
        "    return (1 - p) * rho + p * (I / (2**N))\n",
        "\n",
        "# --- Fidelity Tracking ---\n",
        "fidelities = []\n",
        "fidelities.append(fidelity(rho, ghz))  # Initial\n",
        "\n",
        "# Encode\n",
        "for U in U_list:\n",
        "    rho = U * rho * U.dag()\n",
        "    fidelities.append(fidelity(rho, ghz))\n",
        "\n",
        "# Noise\n",
        "rho = depolarize_nqubit(rho, p=0.05)\n",
        "fidelities.append(fidelity(rho, ghz))\n",
        "\n",
        "# Decode\n",
        "for U in reversed(U_list):\n",
        "    rho = U.dag() * rho * U\n",
        "    fidelities.append(fidelity(rho, ghz))\n",
        "\n",
        "# Output\n",
        "labels = [\n",
        "    \"Initial\",\n",
        "    \"After Spiral 1\",\n",
        "    \"After Spiral 2\",\n",
        "    \"After Spiral 3\",\n",
        "    \"After Noise\",\n",
        "    \"After Recovery 1\",\n",
        "    \"After Recovery 2\",\n",
        "    \"After Recovery 3 (Final)\"\n",
        "]\n",
        "\n",
        "for label, val in zip(labels, fidelities):\n",
        "    print(f\"{label}: {val:.6f}\")"
      ],
      "metadata": {
        "colab": {
          "base_uri": "https://localhost:8080/"
        },
        "id": "e6EJO8AvxN6i",
        "outputId": "8581cfa3-3514-4e98-f684-49d199bf12dd"
      },
      "execution_count": 44,
      "outputs": [
        {
          "output_type": "stream",
          "name": "stdout",
          "text": [
            "Initial: 1.000000\n",
            "After Spiral 1: 0.923880\n",
            "After Spiral 2: 0.707107\n",
            "After Spiral 3: 0.382683\n",
            "After Noise: 0.381280\n",
            "After Recovery 1: 0.693722\n",
            "After Recovery 2: 0.903950\n",
            "After Recovery 3 (Final): 0.977880\n"
          ]
        }
      ]
    },
    {
      "cell_type": "code",
      "source": [
        "from qutip import *\n",
        "import numpy as np\n",
        "\n",
        "# --- GHZ state ---\n",
        "zero, one = basis(2, 0), basis(2, 1)\n",
        "ghz = (tensor(zero, zero, zero) + tensor(one, one, one)).unit()\n",
        "rho0 = ghz.proj()\n",
        "\n",
        "# --- Spiral parameters ---\n",
        "omega = 0.1\n",
        "n = 3\n",
        "theta = np.pi / 4\n",
        "r = 1.0\n",
        "epsilon = 1e-9\n",
        "phi = omega * np.log(r + epsilon) + n * theta\n",
        "\n",
        "# --- Pauli-Z spiral Hamiltonian for 1 qubit ---\n",
        "Z = sigmaz()\n",
        "H1 = phi * tensor(Z, qeye(2), qeye(2))\n",
        "H2 = phi * tensor(qeye(2), Z, qeye(2))\n",
        "H3 = phi * tensor(qeye(2), qeye(2), Z)\n",
        "H_total = H1 + H2 + H3\n",
        "\n",
        "# --- Time evolution ---\n",
        "T = 5          # total time\n",
        "steps = 100    # time steps\n",
        "tlist = np.linspace(0, T, steps)\n",
        "\n",
        "# --- Solve Schrödinger equation (unitary evolution) ---\n",
        "result = mesolve(H_total, rho0, tlist, [], [])\n",
        "\n",
        "# --- Final state after evolution ---\n",
        "rho_evolved = result.states[-1]\n",
        "\n",
        "# --- Add depolarizing noise ---\n",
        "def depolarize_nqubit(rho, p=0.05, N=3):\n",
        "    I = tensor([qeye(2)] * N)\n",
        "    return (1 - p) * rho + p * (I / (2 ** N))\n",
        "\n",
        "rho_noisy = depolarize_nqubit(rho_evolved, p=0.05)\n",
        "\n",
        "# --- Fidelity with original GHZ ---\n",
        "f = fidelity(rho_noisy, ghz)\n",
        "print(f\"Time-Evolved Spiral Hamiltonian Fidelity: {f:.6f}\")"
      ],
      "metadata": {
        "colab": {
          "base_uri": "https://localhost:8080/"
        },
        "id": "ElBfLOl_xiVD",
        "outputId": "8fed8a00-1832-45ee-c57c-f500c7e678b1"
      },
      "execution_count": 45,
      "outputs": [
        {
          "output_type": "stream",
          "name": "stdout",
          "text": [
            "Time-Evolved Spiral Hamiltonian Fidelity: 0.693667\n"
          ]
        },
        {
          "output_type": "stream",
          "name": "stderr",
          "text": [
            "/usr/local/lib/python3.11/dist-packages/qutip/solver/solver_base.py:576: FutureWarning: e_ops will be keyword only from qutip 5.3 for all solver\n",
            "  warnings.warn(\n"
          ]
        }
      ]
    },
    {
      "cell_type": "code",
      "source": [
        "from qutip import *\n",
        "import numpy as np\n",
        "\n",
        "# --- GHZ state ---\n",
        "zero, one = basis(2, 0), basis(2, 1)\n",
        "ghz = (tensor(zero, zero, zero) + tensor(one, one, one)).unit()\n",
        "rho0 = ghz.proj()\n",
        "\n",
        "# --- Spiral parameters ---\n",
        "omega = 0.1\n",
        "n = 3\n",
        "theta = np.pi / 4\n",
        "r = 1.0\n",
        "epsilon = 1e-9\n",
        "phi = omega * np.log(r + epsilon) + n * theta\n",
        "\n",
        "# --- Spiral Hamiltonian (Z on each qubit) ---\n",
        "Z = sigmaz()\n",
        "H1 = phi * tensor(Z, qeye(2), qeye(2))\n",
        "H2 = phi * tensor(qeye(2), Z, qeye(2))\n",
        "H3 = phi * tensor(qeye(2), qeye(2), Z)\n",
        "H_total = H1 + H2 + H3\n",
        "\n",
        "# --- Time evolution parameters ---\n",
        "T = 5\n",
        "steps = 100\n",
        "tlist = np.linspace(0, T, steps)\n",
        "\n",
        "# --- Forward evolution (unitary) ---\n",
        "result_forward = mesolve(H_total, rho0, tlist, [])\n",
        "rho_forward = result_forward.states[-1]\n",
        "\n",
        "# --- Depolarizing noise ---\n",
        "def depolarize_nqubit(rho, p=0.05, N=3):\n",
        "    I = tensor([qeye(2)] * N)\n",
        "    return (1 - p) * rho + p * (I / (2**N))\n",
        "\n",
        "rho_noisy = depolarize_nqubit(rho_forward, p=0.05)\n",
        "\n",
        "# --- Reverse evolution (unitary echo) ---\n",
        "result_reverse = mesolve(-H_total, rho_noisy, tlist, [])\n",
        "rho_recovered = result_reverse.states[-1]\n",
        "\n",
        "# --- Final fidelity ---\n",
        "f = fidelity(rho_recovered, ghz)\n",
        "print(f\"Time-Evolved Spiral Echo Recovery Fidelity: {f:.6f}\")"
      ],
      "metadata": {
        "colab": {
          "base_uri": "https://localhost:8080/"
        },
        "id": "Suk1f6VpxxVH",
        "outputId": "28a30fe3-1286-4029-9610-4edd0ffbdd79"
      },
      "execution_count": 46,
      "outputs": [
        {
          "output_type": "stream",
          "name": "stdout",
          "text": [
            "Time-Evolved Spiral Echo Recovery Fidelity: 0.977430\n"
          ]
        }
      ]
    },
    {
      "cell_type": "code",
      "source": [
        "from qutip import *\n",
        "import numpy as np\n",
        "\n",
        "# --- GHZ state ---\n",
        "zero, one = basis(2, 0), basis(2, 1)\n",
        "ghz = (tensor(zero, zero, zero) + tensor(one, one, one)).unit()\n",
        "rho0 = ghz.proj()\n",
        "\n",
        "# --- Spiral ω(t) definition ---\n",
        "omega_0 = 0.1\n",
        "alpha = 0.03\n",
        "beta = 2 * np.pi / 5  # 1 oscillation over T=5\n",
        "theta = np.pi / 4\n",
        "r = 1.0\n",
        "epsilon = 1e-9\n",
        "n = 3\n",
        "log_term = np.log(r + epsilon)\n",
        "Z = sigmaz()\n",
        "\n",
        "# --- Time-dependent Hamiltonian terms ---\n",
        "def omega_t(t, args):\n",
        "    return omega_0 + alpha * np.cos(beta * t)\n",
        "\n",
        "H_coeff = log_term * Z\n",
        "H1 = [tensor(H_coeff, qeye(2), qeye(2)), omega_t]\n",
        "H2 = [tensor(qeye(2), H_coeff, qeye(2)), omega_t]\n",
        "H3 = [tensor(qeye(2), qeye(2), H_coeff), omega_t]\n",
        "H_total = [H1, H2, H3]\n",
        "\n",
        "# --- Time evolution setup ---\n",
        "T = 5\n",
        "steps = 100\n",
        "tlist = np.linspace(0, T, steps)\n",
        "\n",
        "# --- Forward evolution (pure state) ---\n",
        "result_forward = sesolve(H_total, ghz, tlist)\n",
        "rho_forward = ket2dm(result_forward.states[-1])\n",
        "\n",
        "# --- Apply noise ---\n",
        "def depolarize_nqubit(rho, p=0.05, N=3):\n",
        "    I = tensor([qeye(2)] * N)\n",
        "    return (1 - p) * rho + p * (I / (2 ** N))\n",
        "\n",
        "rho_noisy = depolarize_nqubit(rho_forward, p=0.05)\n",
        "\n",
        "# --- Reverse evolution (density matrix) ---\n",
        "result_reverse = mesolve(H_total, rho_noisy, tlist[::-1])\n",
        "rho_recovered = result_reverse.states[-1]\n",
        "\n",
        "# --- Fidelity ---\n",
        "f = fidelity(rho_recovered, ghz)\n",
        "print(f\"Adaptive Spiral Feedback Field Echo Fidelity: {f:.6f}\")"
      ],
      "metadata": {
        "colab": {
          "base_uri": "https://localhost:8080/"
        },
        "id": "sA5SMe6ryUVk",
        "outputId": "b0cbb8bd-325f-4aa4-a3aa-ed8d9ca8904d"
      },
      "execution_count": 48,
      "outputs": [
        {
          "output_type": "stream",
          "name": "stdout",
          "text": [
            "Adaptive Spiral Feedback Field Echo Fidelity: 0.977880\n"
          ]
        }
      ]
    },
    {
      "cell_type": "code",
      "source": [
        "from qutip import *\n",
        "import numpy as np\n",
        "\n",
        "# --- GHZ state ---\n",
        "zero, one = basis(2, 0), basis(2, 1)\n",
        "ghz = (tensor(zero, zero, zero) + tensor(one, one, one)).unit()\n",
        "rho0 = ghz.proj()\n",
        "\n",
        "# --- Symbol stream and ω mapping ---\n",
        "symbol_stream = ['A', 'B', 'H', 'A', 'B', 'B', 'B']\n",
        "symbol_to_omega = {'A': 0.04, 'B': 0.08, 'H': 0.12}\n",
        "stream_omega = [symbol_to_omega[s] for s in symbol_stream]\n",
        "\n",
        "# --- Time setup ---\n",
        "T = 7  # total time\n",
        "steps_per_symbol = 15\n",
        "steps = len(stream_omega) * steps_per_symbol\n",
        "tlist = np.linspace(0, T, steps)\n",
        "\n",
        "# --- ω(t) as step function driven by symbols ---\n",
        "def omega_t(t, args):\n",
        "    segment = int(t / (T / len(stream_omega)))\n",
        "    if segment >= len(stream_omega):\n",
        "        segment = len(stream_omega) - 1\n",
        "    return stream_omega[segment]\n",
        "\n",
        "# --- Spiral Hamiltonian base ---\n",
        "theta = np.pi / 4\n",
        "r = 1.0\n",
        "epsilon = 1e-9\n",
        "n = 3\n",
        "log_term = np.log(r + epsilon)\n",
        "Z = sigmaz()\n",
        "H_coeff = log_term * Z\n",
        "\n",
        "# --- Hamiltonian terms per qubit ---\n",
        "H1 = [tensor(H_coeff, qeye(2), qeye(2)), omega_t]\n",
        "H2 = [tensor(qeye(2), H_coeff, qeye(2)), omega_t]\n",
        "H3 = [tensor(qeye(2), qeye(2), H_coeff), omega_t]\n",
        "H_total = [H1, H2, H3]\n",
        "\n",
        "# --- Forward evolution (pure state) ---\n",
        "result_forward = sesolve(H_total, ghz, tlist)\n",
        "rho_forward = ket2dm(result_forward.states[-1])\n",
        "\n",
        "# --- Noise ---\n",
        "def depolarize_nqubit(rho, p=0.05, N=3):\n",
        "    I = tensor([qeye(2)] * N)\n",
        "    return (1 - p) * rho + p * (I / (2**N))\n",
        "\n",
        "rho_noisy = depolarize_nqubit(rho_forward, p=0.05)\n",
        "\n",
        "# --- Reverse evolution with mirrored symbol stream ---\n",
        "symbol_omega_reversed = list(reversed(stream_omega))\n",
        "def omega_reverse(t, args):\n",
        "    segment = int(t / (T / len(symbol_omega_reversed)))\n",
        "    if segment >= len(symbol_omega_reversed):\n",
        "        segment = len(symbol_omega_reversed) - 1\n",
        "    return symbol_omega_reversed[segment]\n",
        "\n",
        "# Redefine H_total with reverse ω(t)\n",
        "H1_rev = [tensor(H_coeff, qeye(2), qeye(2)), omega_reverse]\n",
        "H2_rev = [tensor(qeye(2), H_coeff, qeye(2)), omega_reverse]\n",
        "H3_rev = [tensor(qeye(2), qeye(2), H_coeff), omega_reverse]\n",
        "H_total_rev = [H1_rev, H2_rev, H3_rev]\n",
        "\n",
        "# --- Reverse evolution (density matrix) ---\n",
        "result_reverse = mesolve(H_total_rev, rho_noisy, tlist[::-1])\n",
        "rho_recovered = result_reverse.states[-1]\n",
        "\n",
        "# --- Fidelity result ---\n",
        "f = fidelity(rho_recovered, ghz)\n",
        "print(f\"Symbol Stream-Driven Spiral Echo Fidelity: {f:.6f}\")"
      ],
      "metadata": {
        "colab": {
          "base_uri": "https://localhost:8080/"
        },
        "id": "8xUpbM0uypsF",
        "outputId": "9271a513-f021-4a55-a77b-7a7a7eb8654f"
      },
      "execution_count": 49,
      "outputs": [
        {
          "output_type": "stream",
          "name": "stdout",
          "text": [
            "Symbol Stream-Driven Spiral Echo Fidelity: 0.977880\n"
          ]
        }
      ]
    },
    {
      "cell_type": "code",
      "source": [
        "from qutip import *\n",
        "import numpy as np\n",
        "\n",
        "# --- GHZ state ---\n",
        "zero, one = basis(2, 0), basis(2, 1)\n",
        "ghz = (tensor(zero, zero, zero) + tensor(one, one, one)).unit()\n",
        "rho0 = ghz.proj()\n",
        "\n",
        "# --- Symbol stream and ω mapping ---\n",
        "symbol_stream = ['A', 'B', 'H', 'A', 'B', 'B', 'B']\n",
        "symbol_to_omega = {'A': 0.04, 'B': 0.08, 'H': 0.12}\n",
        "stream_omega = [symbol_to_omega[s] for s in symbol_stream]\n",
        "\n",
        "# --- Time setup ---\n",
        "T = 7\n",
        "steps_per_symbol = 15\n",
        "steps = len(stream_omega) * steps_per_symbol\n",
        "tlist = np.linspace(0, T, steps)\n",
        "\n",
        "# --- ω(t) as symbolic step function ---\n",
        "def omega_t(t, args):\n",
        "    segment = int(t / (T / len(stream_omega)))\n",
        "    if segment >= len(stream_omega):\n",
        "        segment = len(stream_omega) - 1\n",
        "    return stream_omega[segment]\n",
        "\n",
        "# --- Spiral Hamiltonian base ---\n",
        "theta = np.pi / 4\n",
        "r = 1.0\n",
        "epsilon = 1e-9\n",
        "n = 3\n",
        "log_term = np.log(r + epsilon)\n",
        "Z = sigmaz()\n",
        "H_coeff = log_term * Z\n",
        "\n",
        "# --- Hamiltonian terms per qubit ---\n",
        "H1 = [tensor(H_coeff, qeye(2), qeye(2)), omega_t]\n",
        "H2 = [tensor(qeye(2), H_coeff, qeye(2)), omega_t]\n",
        "H3 = [tensor(qeye(2), qeye(2), H_coeff), omega_t]\n",
        "H_total = [H1, H2, H3]\n",
        "\n",
        "# --- Forward evolution ---\n",
        "result_forward = sesolve(H_total, ghz, tlist)\n",
        "rho_forward = ket2dm(result_forward.states[-1])\n",
        "\n",
        "# --- High noise: p = 0.20 ---\n",
        "def depolarize_nqubit(rho, p=0.20, N=3):\n",
        "    I = tensor([qeye(2)] * N)\n",
        "    return (1 - p) * rho + p * (I / (2**N))\n",
        "\n",
        "rho_noisy = depolarize_nqubit(rho_forward, p=0.20)\n",
        "\n",
        "# --- Reverse ω(t) ---\n",
        "symbol_omega_reversed = list(reversed(stream_omega))\n",
        "def omega_reverse(t, args):\n",
        "    segment = int(t / (T / len(symbol_omega_reversed)))\n",
        "    if segment >= len(symbol_omega_reversed):\n",
        "        segment = len(symbol_omega_reversed) - 1\n",
        "    return symbol_omega_reversed[segment]\n",
        "\n",
        "# --- Reverse Hamiltonian ---\n",
        "H1_rev = [tensor(H_coeff, qeye(2), qeye(2)), omega_reverse]\n",
        "H2_rev = [tensor(qeye(2), H_coeff, qeye(2)), omega_reverse]\n",
        "H3_rev = [tensor(qeye(2), qeye(2), H_coeff), omega_reverse]\n",
        "H_total_rev = [H1_rev, H2_rev, H3_rev]\n",
        "\n",
        "# --- Reverse evolution ---\n",
        "result_reverse = mesolve(H_total_rev, rho_noisy, tlist[::-1])\n",
        "rho_recovered = result_reverse.states[-1]\n",
        "\n",
        "# --- Fidelity result ---\n",
        "f = fidelity(rho_recovered, ghz)\n",
        "print(f\"Symbolic Spiral Echo Fidelity at p = 0.20: {f:.6f}\")"
      ],
      "metadata": {
        "colab": {
          "base_uri": "https://localhost:8080/"
        },
        "id": "jA3Y1yiVzGKW",
        "outputId": "f6a1736e-0f77-4a8f-8b0f-a3b2231f332b"
      },
      "execution_count": 50,
      "outputs": [
        {
          "output_type": "stream",
          "name": "stdout",
          "text": [
            "Symbolic Spiral Echo Fidelity at p = 0.20: 0.908295\n"
          ]
        }
      ]
    },
    {
      "cell_type": "code",
      "source": [
        "# --- Noise upgrade: p = 0.30 ---\n",
        "def depolarize_nqubit(rho, p=0.30, N=3):\n",
        "    I = tensor([qeye(2)] * N)\n",
        "    return (1 - p) * rho + p * (I / (2**N))\n",
        "\n",
        "rho_noisy = depolarize_nqubit(rho_forward, p=0.30)\n",
        "\n",
        "# --- Reverse evolution with same (aligned) symbol stream ---\n",
        "result_reverse = mesolve(H_total_rev, rho_noisy, tlist[::-1])\n",
        "rho_recovered = result_reverse.states[-1]\n",
        "\n",
        "# --- Fidelity result ---\n",
        "f = fidelity(rho_recovered, ghz)\n",
        "print(f\"Symbolic Spiral Echo Fidelity at p = 0.30: {f:.6f}\")"
      ],
      "metadata": {
        "colab": {
          "base_uri": "https://localhost:8080/"
        },
        "id": "_wogAIQCzdGG",
        "outputId": "07a39886-fa36-49de-b8eb-ae5db7f8b8c6"
      },
      "execution_count": 51,
      "outputs": [
        {
          "output_type": "stream",
          "name": "stdout",
          "text": [
            "Symbolic Spiral Echo Fidelity at p = 0.30: 0.858778\n"
          ]
        }
      ]
    },
    {
      "cell_type": "code",
      "source": [
        "# --- Reverse ω(t) with symbolic misalignment ---\n",
        "# Introduce wrong symbols → phase echo mismatch\n",
        "symbol_omega_misaligned = ['B', 'B', 'H', 'H', 'A', 'A', 'B']  # Intentional misalignment\n",
        "\n",
        "def omega_mismatch(t, args):\n",
        "    segment = int(t / (T / len(symbol_omega_misaligned)))\n",
        "    if segment >= len(symbol_omega_misaligned):\n",
        "        segment = len(symbol_omega_misaligned) - 1\n",
        "    return symbol_to_omega[symbol_omega_misaligned[segment]]\n",
        "\n",
        "# --- Mismatched Reverse Hamiltonian ---\n",
        "H1_mis = [tensor(H_coeff, qeye(2), qeye(2)), omega_mismatch]\n",
        "H2_mis = [tensor(qeye(2), H_coeff, qeye(2)), omega_mismatch]\n",
        "H3_mis = [tensor(qeye(2), qeye(2), H_coeff), omega_mismatch]\n",
        "H_total_mis = [H1_mis, H2_mis, H3_mis]\n",
        "\n",
        "# --- Reverse evolution with wrong ω(t) ---\n",
        "result_mis = mesolve(H_total_mis, rho_noisy, tlist[::-1])\n",
        "rho_misaligned = result_mis.states[-1]\n",
        "\n",
        "# --- Misalignment Fidelity ---\n",
        "f_mis = fidelity(rho_misaligned, ghz)\n",
        "print(f\"Fidelity with Symbolic Misalignment at p = 0.30: {f_mis:.6f}\")"
      ],
      "metadata": {
        "colab": {
          "base_uri": "https://localhost:8080/"
        },
        "id": "g9JAbQNIzmsd",
        "outputId": "bf3c9346-aa88-475d-aff0-c3d5f90ac7d2"
      },
      "execution_count": 52,
      "outputs": [
        {
          "output_type": "stream",
          "name": "stdout",
          "text": [
            "Fidelity with Symbolic Misalignment at p = 0.30: 0.858778\n"
          ]
        }
      ]
    },
    {
      "cell_type": "code",
      "source": [
        "from collections import Counter\n",
        "import math\n",
        "\n",
        "# --- Symbolic Streams ---\n",
        "stream_aligned = ['A', 'B', 'H', 'A', 'B', 'B', 'B']\n",
        "stream_misaligned = ['B', 'B', 'H', 'H', 'A', 'A', 'B']\n",
        "\n",
        "# --- Shannon Entropy ---\n",
        "def shannon_entropy(stream):\n",
        "    counts = Counter(stream)\n",
        "    total = len(stream)\n",
        "    return -sum((count/total) * math.log2(count/total) for count in counts.values())\n",
        "\n",
        "# --- Lempel-Ziv Complexity (approximate) ---\n",
        "def lz_complexity(s):\n",
        "    sub = ''\n",
        "    seen = set()\n",
        "    count = 0\n",
        "    for c in s:\n",
        "        sub += c\n",
        "        if sub not in seen:\n",
        "            seen.add(sub)\n",
        "            count += 1\n",
        "            sub = ''\n",
        "    return count\n",
        "\n",
        "# Convert to string for LZC\n",
        "s_aligned = ''.join(stream_aligned)\n",
        "s_misaligned = ''.join(stream_misaligned)\n",
        "\n",
        "# --- Results ---\n",
        "H_align = shannon_entropy(stream_aligned)\n",
        "H_mis = shannon_entropy(stream_misaligned)\n",
        "LZ_align = lz_complexity(s_aligned)\n",
        "LZ_mis = lz_complexity(s_misaligned)\n",
        "\n",
        "print(f\"Aligned Stream – Shannon Entropy: {H_align:.4f}, LZC: {LZ_align}\")\n",
        "print(f\"Misaligned Stream – Shannon Entropy: {H_mis:.4f}, LZC: {LZ_mis}\")"
      ],
      "metadata": {
        "colab": {
          "base_uri": "https://localhost:8080/"
        },
        "id": "aYf0cIVWz1Bf",
        "outputId": "56ebbad3-48f6-4b4d-cceb-0e7a2725e133"
      },
      "execution_count": 53,
      "outputs": [
        {
          "output_type": "stream",
          "name": "stdout",
          "text": [
            "Aligned Stream – Shannon Entropy: 1.3788, LZC: 5\n",
            "Misaligned Stream – Shannon Entropy: 1.5567, LZC: 5\n"
          ]
        }
      ]
    },
    {
      "cell_type": "code",
      "source": [
        "# --- Compressed symbolic stream (run-length style) ---\n",
        "compressed_stream = [('A', 2), ('B', 3), ('H', 2)]\n",
        "symbol_to_omega = {'A': 0.04, 'B': 0.08, 'H': 0.12}\n",
        "\n",
        "# Expand for ω(t) reconstruction\n",
        "expanded_stream = []\n",
        "for symbol, count in compressed_stream:\n",
        "    expanded_stream.extend([symbol] * count)\n",
        "\n",
        "stream_omega = [symbol_to_omega[s] for s in expanded_stream]\n",
        "\n",
        "# --- Time setup ---\n",
        "T = len(expanded_stream)\n",
        "steps_per_symbol = 15\n",
        "steps = T * steps_per_symbol\n",
        "tlist = np.linspace(0, T, steps)\n",
        "\n",
        "# --- ω(t) function from compressed-expanded stream ---\n",
        "def omega_compressed(t, args):\n",
        "    segment = int(t / (T / len(stream_omega)))\n",
        "    if segment >= len(stream_omega):\n",
        "        segment = len(stream_omega) - 1\n",
        "    return stream_omega[segment]\n",
        "\n",
        "# --- Spiral Hamiltonian base ---\n",
        "theta = np.pi / 4\n",
        "r = 1.0\n",
        "epsilon = 1e-9\n",
        "log_term = np.log(r + epsilon)\n",
        "Z = sigmaz()\n",
        "H_coeff = log_term * Z\n",
        "\n",
        "# --- Hamiltonians ---\n",
        "H1 = [tensor(H_coeff, qeye(2), qeye(2)), omega_compressed]\n",
        "H2 = [tensor(qeye(2), H_coeff, qeye(2)), omega_compressed]\n",
        "H3 = [tensor(qeye(2), qeye(2), H_coeff), omega_compressed]\n",
        "H_total = [H1, H2, H3]\n",
        "\n",
        "# --- Forward evolution ---\n",
        "result_forward = sesolve(H_total, ghz, tlist)\n",
        "rho_forward = ket2dm(result_forward.states[-1])\n",
        "\n",
        "# --- Noise ---\n",
        "def depolarize_nqubit(rho, p=0.20, N=3):  # use p = 0.20 for challenge\n",
        "    I = tensor([qeye(2)] * N)\n",
        "    return (1 - p) * rho + p * (I / (2**N))\n",
        "\n",
        "rho_noisy = depolarize_nqubit(rho_forward, p=0.20)\n",
        "\n",
        "# --- Reverse evolution using same compressed stream (mirrored) ---\n",
        "stream_omega_rev = list(reversed(stream_omega))\n",
        "def omega_compressed_rev(t, args):\n",
        "    segment = int(t / (T / len(stream_omega_rev)))\n",
        "    if segment >= len(stream_omega_rev):\n",
        "        segment = len(stream_omega_rev) - 1\n",
        "    return stream_omega_rev[segment]\n",
        "\n",
        "H1_rev = [tensor(H_coeff, qeye(2), qeye(2)), omega_compressed_rev]\n",
        "H2_rev = [tensor(qeye(2), H_coeff, qeye(2)), omega_compressed_rev]\n",
        "H3_rev = [tensor(qeye(2), qeye(2), H_coeff), omega_compressed_rev]\n",
        "H_total_rev = [H1_rev, H2_rev, H3_rev]\n",
        "\n",
        "# --- Echo recovery ---\n",
        "result_reverse = mesolve(H_total_rev, rho_noisy, tlist[::-1])\n",
        "rho_recovered = result_reverse.states[-1]\n",
        "\n",
        "# --- Fidelity ---\n",
        "f = fidelity(rho_recovered, ghz)\n",
        "print(f\"Compressed Symbolic Stream Echo Fidelity at p = 0.20: {f:.6f}\")"
      ],
      "metadata": {
        "colab": {
          "base_uri": "https://localhost:8080/"
        },
        "id": "geBsM5Cuz97M",
        "outputId": "19ae03f7-43e2-4a66-f0e5-4222f0901603"
      },
      "execution_count": 54,
      "outputs": [
        {
          "output_type": "stream",
          "name": "stdout",
          "text": [
            "Compressed Symbolic Stream Echo Fidelity at p = 0.20: 0.908295\n"
          ]
        }
      ]
    },
    {
      "cell_type": "code",
      "source": [
        "from qutip import *\n",
        "import numpy as np\n",
        "\n",
        "# --- GHZ state ---\n",
        "zero = basis(2, 0)\n",
        "one = basis(2, 1)\n",
        "ghz = (tensor(zero, zero, zero) + tensor(one, one, one)).unit()\n",
        "rho0 = ghz.proj()\n",
        "\n",
        "# --- Symbolic stream and ω mapping ---\n",
        "stream = ['A', 'B', 'H', 'A', 'B', 'B', 'B']\n",
        "symbol_to_omega = {'A': 0.04, 'B': 0.08, 'H': 0.12}\n",
        "omega_stream = [symbol_to_omega[s] for s in stream]\n",
        "\n",
        "# --- Time setup ---\n",
        "T = len(omega_stream)\n",
        "steps_per_symbol = 15\n",
        "steps = T * steps_per_symbol\n",
        "tlist = np.linspace(0, T, steps)\n",
        "\n",
        "# --- ω(t) with mid-correction pulse ---\n",
        "def omega_sce(t, args):\n",
        "    segment = int(t / (T / len(omega_stream)))\n",
        "    if segment >= len(omega_stream):\n",
        "        segment = len(omega_stream) - 1\n",
        "    ω_base = omega_stream[segment]\n",
        "    if abs(t - (T / 2)) < (T / len(omega_stream)):\n",
        "        return ω_base + 0.02  # corrective boost\n",
        "    return ω_base\n",
        "\n",
        "# --- Spiral Hamiltonian ---\n",
        "r = 1.0\n",
        "epsilon = 1e-9\n",
        "log_term = np.log(r + epsilon)\n",
        "Z = sigmaz()\n",
        "H_coeff = log_term * Z\n",
        "\n",
        "H1 = [tensor(H_coeff, qeye(2), qeye(2)), omega_sce]\n",
        "H2 = [tensor(qeye(2), H_coeff, qeye(2)), omega_sce]\n",
        "H3 = [tensor(qeye(2), qeye(2), H_coeff), omega_sce]\n",
        "H_total = [H1, H2, H3]\n",
        "\n",
        "# --- Forward evolution ---\n",
        "result_forward = sesolve(H_total, ghz, tlist)\n",
        "rho_forward = ket2dm(result_forward.states[-1])\n",
        "\n",
        "# --- Noise injection: p = 0.20 ---\n",
        "def depolarize_nqubit(rho, p=0.20, N=3):\n",
        "    I = tensor([qeye(2)] * N)\n",
        "    return (1 - p) * rho + p * (I / (2 ** N))\n",
        "\n",
        "rho_noisy = depolarize_nqubit(rho_forward, p=0.20)\n",
        "\n",
        "# --- Corrective Echo ω(t) reversed ---\n",
        "omega_stream_rev = list(reversed(omega_stream))\n",
        "def omega_sce_rev(t, args):\n",
        "    segment = int(t / (T / len(omega_stream_rev)))\n",
        "    if segment >= len(omega_stream_rev):\n",
        "        segment = len(omega_stream_rev) - 1\n",
        "    ω_base = omega_stream_rev[segment]\n",
        "    if abs(t - (T / 2)) < (T / len(omega_stream_rev)):\n",
        "        return ω_base + 0.02  # mirror the boost\n",
        "    return ω_base\n",
        "\n",
        "H1_rev = [tensor(H_coeff, qeye(2), qeye(2)), omega_sce_rev]\n",
        "H2_rev = [tensor(qeye(2), H_coeff, qeye(2)), omega_sce_rev]\n",
        "H3_rev = [tensor(qeye(2), qeye(2), H_coeff), omega_sce_rev]\n",
        "H_total_rev = [H1_rev, H2_rev, H3_rev]\n",
        "\n",
        "# --- Reverse evolution ---\n",
        "result_reverse = mesolve(H_total_rev, rho_noisy, tlist[::-1])\n",
        "rho_recovered = result_reverse.states[-1]\n",
        "\n",
        "# --- Final Fidelity Output ---\n",
        "f = fidelity(rho_recovered, ghz)\n",
        "print(f\"SCE v1.0 Spiral Echo Fidelity at p = 0.20: {f:.6f}\")"
      ],
      "metadata": {
        "colab": {
          "base_uri": "https://localhost:8080/"
        },
        "id": "dwJPlQZk0x42",
        "outputId": "fe8cb376-fd07-4df0-b4e9-63698310388e"
      },
      "execution_count": 57,
      "outputs": [
        {
          "output_type": "stream",
          "name": "stdout",
          "text": [
            "SCE v1.0 Spiral Echo Fidelity at p = 0.20: 0.908295\n"
          ]
        }
      ]
    },
    {
      "cell_type": "code",
      "source": [
        "from qutip import *\n",
        "import numpy as np\n",
        "\n",
        "# --- GHZ state ---\n",
        "zero, one = basis(2, 0), basis(2, 1)\n",
        "ghz = (tensor(zero, zero, zero) + tensor(one, one, one)).unit()\n",
        "rho0 = ghz.proj()\n",
        "\n",
        "# --- Symbolic ω(t) stream ---\n",
        "stream = ['A', 'B', 'H', 'A', 'B', 'B', 'B']\n",
        "symbol_to_omega = {'A': 0.04, 'B': 0.08, 'H': 0.12}\n",
        "omega_stream = [symbol_to_omega[s] for s in stream]\n",
        "\n",
        "# --- Time setup ---\n",
        "T = len(omega_stream)\n",
        "steps_per_symbol = 15\n",
        "steps = T * steps_per_symbol\n",
        "tlist = np.linspace(0, T, steps)\n",
        "\n",
        "# --- Aggressive feedback shaping ---\n",
        "delta = 0.5  # Feedback strength (50% wave modulation)\n",
        "\n",
        "def omega_sce_v2(t, args):\n",
        "    segment = int(t / (T / len(omega_stream)))\n",
        "    if segment >= len(omega_stream):\n",
        "        segment = len(omega_stream) - 1\n",
        "    ω_base = omega_stream[segment]\n",
        "    correction = 1 + delta * np.sin(2 * np.pi * t / T)\n",
        "    return ω_base * correction\n",
        "\n",
        "# --- Spiral Hamiltonian ---\n",
        "r = 1.0\n",
        "epsilon = 1e-9\n",
        "log_term = np.log(r + epsilon)\n",
        "Z = sigmaz()\n",
        "H_coeff = log_term * Z\n",
        "\n",
        "H1 = [tensor(H_coeff, qeye(2), qeye(2)), omega_sce_v2]\n",
        "H2 = [tensor(qeye(2), H_coeff, qeye(2)), omega_sce_v2]\n",
        "H3 = [tensor(qeye(2), qeye(2), H_coeff), omega_sce_v2]\n",
        "H_total = [H1, H2, H3]\n",
        "\n",
        "# --- Forward evolution ---\n",
        "result_forward = sesolve(H_total, ghz, tlist)\n",
        "rho_forward = ket2dm(result_forward.states[-1])\n",
        "\n",
        "# --- Depolarizing noise (p = 0.20) ---\n",
        "def depolarize_nqubit(rho, p=0.20, N=3):\n",
        "    I = tensor([qeye(2)] * N)\n",
        "    return (1 - p) * rho + p * (I / (2**N))\n",
        "\n",
        "rho_noisy = depolarize_nqubit(rho_forward, p=0.20)\n",
        "\n",
        "# --- Reverse: symmetric aggressive shaping ---\n",
        "omega_stream_rev = list(reversed(omega_stream))\n",
        "def omega_sce_v2_rev(t, args):\n",
        "    segment = int(t / (T / len(omega_stream_rev)))\n",
        "    if segment >= len(omega_stream_rev):\n",
        "        segment = len(omega_stream_rev) - 1\n",
        "    ω_base = omega_stream_rev[segment]\n",
        "    correction = 1 + delta * np.sin(2 * np.pi * t / T)\n",
        "    return ω_base * correction\n",
        "\n",
        "H1_rev = [tensor(H_coeff, qeye(2), qeye(2)), omega_sce_v2_rev]\n",
        "H2_rev = [tensor(qeye(2), H_coeff, qeye(2)), omega_sce_v2_rev]\n",
        "H3_rev = [tensor(qeye(2), qeye(2), H_coeff), omega_sce_v2_rev]\n",
        "H_total_rev = [H1_rev, H2_rev, H3_rev]\n",
        "\n",
        "# --- Reverse evolution ---\n",
        "result_reverse = mesolve(H_total_rev, rho_noisy, tlist[::-1])\n",
        "rho_recovered = result_reverse.states[-1]\n",
        "\n",
        "# --- Final fidelity ---\n",
        "f = fidelity(rho_recovered, ghz)\n",
        "print(f\"SCE v2.0 Aggressively Modulated Echo Fidelity at p = 0.20: {f:.6f}\")"
      ],
      "metadata": {
        "colab": {
          "base_uri": "https://localhost:8080/"
        },
        "id": "Z2TBCPUd1Iqe",
        "outputId": "ff460dfa-23d6-47a5-8a17-a12dd28b510a"
      },
      "execution_count": 58,
      "outputs": [
        {
          "output_type": "stream",
          "name": "stdout",
          "text": [
            "SCE v2.0 Aggressively Modulated Echo Fidelity at p = 0.20: 0.908295\n"
          ]
        }
      ]
    },
    {
      "cell_type": "code",
      "source": [
        "from qutip import *\n",
        "import numpy as np\n",
        "\n",
        "# --- GHZ state ---\n",
        "zero = basis(2, 0)\n",
        "one = basis(2, 1)\n",
        "ghz = (tensor(zero, zero, zero) + tensor(one, one, one)).unit()\n",
        "rho0 = ghz.proj()\n",
        "\n",
        "# --- Symbolic ω stream ---\n",
        "stream = ['A', 'B', 'H', 'A', 'B', 'B', 'B']\n",
        "symbol_to_omega = {'A': 0.04, 'B': 0.08, 'H': 0.12}\n",
        "omega_stream = [symbol_to_omega[s] for s in stream]\n",
        "\n",
        "# --- Time setup ---\n",
        "T = len(omega_stream)\n",
        "steps_per_symbol = 15\n",
        "steps = T * steps_per_symbol\n",
        "tlist = np.linspace(0, T, steps)\n",
        "\n",
        "# --- Forward ω(t) ---\n",
        "def omega_forward(t, args):\n",
        "    segment = int(t / (T / len(omega_stream)))\n",
        "    if segment >= len(omega_stream):\n",
        "        segment = len(omega_stream) - 1\n",
        "    return omega_stream[segment]\n",
        "\n",
        "# --- Spiral Hamiltonian setup ---\n",
        "r = 1.0\n",
        "epsilon = 1e-9\n",
        "log_term = np.log(r + epsilon)\n",
        "Z = sigmaz()\n",
        "H_coeff = log_term * Z\n",
        "\n",
        "H1 = [tensor(H_coeff, qeye(2), qeye(2)), omega_forward]\n",
        "H2 = [tensor(qeye(2), H_coeff, qeye(2)), omega_forward]\n",
        "H3 = [tensor(qeye(2), qeye(2), H_coeff), omega_forward]\n",
        "H_total = [H1, H2, H3]\n",
        "\n",
        "# --- Forward evolution ---\n",
        "result_forward = sesolve(H_total, ghz, tlist)\n",
        "rho_forward = ket2dm(result_forward.states[-1])\n",
        "\n",
        "# --- Depolarizing noise at p = 0.20 ---\n",
        "def depolarize_nqubit(rho, p=0.20, N=3):\n",
        "    I = tensor([qeye(2)] * N)\n",
        "    return (1 - p) * rho + p * (I / (2**N))\n",
        "\n",
        "rho_noisy = depolarize_nqubit(rho_forward, p=0.20)\n",
        "\n",
        "# --- Inverted ω(t) for reverse ---\n",
        "omega_stream_rev = list(reversed(omega_stream))\n",
        "def omega_inverted(t, args):\n",
        "    segment = int(t / (T / len(omega_stream_rev)))\n",
        "    if segment >= len(omega_stream_rev):\n",
        "        segment = len(omega_stream_rev) - 1\n",
        "    return -omega_stream_rev[segment]\n",
        "\n",
        "H1_rev = [tensor(H_coeff, qeye(2), qeye(2)), omega_inverted]\n",
        "H2_rev = [tensor(qeye(2), H_coeff, qeye(2)), omega_inverted]\n",
        "H3_rev = [tensor(qeye(2), qeye(2), H_coeff), omega_inverted]\n",
        "H_total_rev = [H1_rev, H2_rev, H3_rev]\n",
        "\n",
        "# --- Reverse evolution with full spiral inversion ---\n",
        "result_reverse = mesolve(H_total_rev, rho_noisy, tlist[::-1])\n",
        "rho_recovered = result_reverse.states[-1]\n",
        "\n",
        "# --- Final Fidelity Output ---\n",
        "f = fidelity(rho_recovered, ghz)\n",
        "print(f\"Final Spiral Inversion Echo Fidelity at p = 0.20: {f:.6f}\")"
      ],
      "metadata": {
        "colab": {
          "base_uri": "https://localhost:8080/"
        },
        "id": "6spQGaNZ1ppo",
        "outputId": "f9c457c2-b322-4ae7-e812-6cb09ed66666"
      },
      "execution_count": 60,
      "outputs": [
        {
          "output_type": "stream",
          "name": "stdout",
          "text": [
            "Final Spiral Inversion Echo Fidelity at p = 0.20: 0.908295\n"
          ]
        }
      ]
    }
  ]
}