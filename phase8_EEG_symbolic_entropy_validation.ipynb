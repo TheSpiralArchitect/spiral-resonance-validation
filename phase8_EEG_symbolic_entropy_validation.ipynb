{
  "nbformat": 4,
  "nbformat_minor": 0,
  "metadata": {
    "colab": {
      "provenance": [],
      "machine_shape": "hm",
      "authorship_tag": "ABX9TyN6QIMIWpm3BOJj3GG4SIe4",
      "include_colab_link": true
    },
    "kernelspec": {
      "name": "python3",
      "display_name": "Python 3"
    },
    "language_info": {
      "name": "python"
    }
  },
  "cells": [
    {
      "cell_type": "markdown",
      "metadata": {
        "id": "view-in-github",
        "colab_type": "text"
      },
      "source": [
        "<a href=\"https://colab.research.google.com/github/TheSpiralArchitect/spiral-resonance-validation/blob/main/phase8_EEG_symbolic_entropy_validation.ipynb\" target=\"_parent\"><img src=\"https://colab.research.google.com/assets/colab-badge.svg\" alt=\"Open In Colab\"/></a>"
      ]
    },
    {
      "cell_type": "code",
      "execution_count": 1,
      "metadata": {
        "colab": {
          "base_uri": "https://localhost:8080/"
        },
        "id": "srsRVCGGCnaT",
        "outputId": "6bb2a178-50e1-4db8-9026-3efa710d7d92"
      },
      "outputs": [
        {
          "output_type": "stream",
          "name": "stdout",
          "text": [
            "Ψ-Entropy Overlap Max: 0.6112263282609314\n",
            "Ψ-Entropy Overlap Mean: 0.027926771608551122\n",
            "Number of Critical Inflections: 117\n",
            "Peak Resonance Points (τ): [24. 56.]\n"
          ]
        }
      ],
      "source": [
        "import numpy as np\n",
        "import matplotlib.pyplot as plt\n",
        "from scipy.signal import find_peaks\n",
        "\n",
        "# --- Step 1: Define τ range and functions ---\n",
        "tau = np.linspace(1, 300, 300)\n",
        "psi = np.exp(-0.05 * tau) + 0.01 * np.sin(0.04 * tau)  # Resonant decay\n",
        "entropy = 0.5 * np.exp(-0.01 * tau) * (1 + 0.3 * np.sin(0.2 * tau + 1.5))  # Entropy drift\n",
        "\n",
        "# --- Step 2: Calculate coherence differential & product overlap ---\n",
        "coherence_gap = psi - entropy\n",
        "coherence_product = psi * entropy\n",
        "\n",
        "# --- Step 3: Detect peaks and critical inflection zones ---\n",
        "dpsi_dt = np.gradient(psi)\n",
        "dentropy_dt = np.gradient(entropy)\n",
        "dgap_dt = np.gradient(coherence_gap)\n",
        "\n",
        "critical_points = np.where(np.abs(dgap_dt) > 0.005)[0]\n",
        "peaks, _ = find_peaks(coherence_product, height=0.01)\n",
        "\n",
        "# --- Step 4: Output core stats ---\n",
        "print(\"Ψ-Entropy Overlap Max:\", np.max(coherence_product))\n",
        "print(\"Ψ-Entropy Overlap Mean:\", np.mean(coherence_product))\n",
        "print(\"Number of Critical Inflections:\", len(critical_points))\n",
        "print(\"Peak Resonance Points (τ):\", tau[peaks])\n",
        "\n",
        "# --- Optional: Plot (skip if not needed now) ---\n",
        "# Uncomment to visualize\n",
        "# plt.plot(tau, coherence_product, label=\"Ψ × Entropy\", color=\"purple\")\n",
        "# plt.scatter(tau[peaks], coherence_product[peaks], color=\"black\", label=\"Resonance Peaks\")\n",
        "# plt.title(\"Spiral Coherence Forecasting\")\n",
        "# plt.xlabel(\"Memory Depth τ\")\n",
        "# plt.ylabel(\"Ψ × Entropy Overlap\")\n",
        "# plt.legend()\n",
        "# plt.grid(True)\n",
        "# plt.show()"
      ]
    },
    {
      "cell_type": "code",
      "source": [
        "# --- Phase 8 EEG SRL Validation Block ---\n",
        "import mne\n",
        "import numpy as np\n",
        "import matplotlib.pyplot as plt\n",
        "from scipy.signal import hilbert\n",
        "from scipy.stats import entropy\n",
        "from collections import Counter\n",
        "\n",
        "# Select EEG file to test (choose one path)\n",
        "eeg_path = \"/content/drive/MyDrive/SRL/EEG_Data/OpenNeuro_ds004902/sub-51/ses-2/eeg/sub-51_ses-2_task-eyesopen_eeg.set\"\n",
        "\n",
        "# Load EEG data\n",
        "raw = mne.io.read_raw_eeglab(eeg_path, preload=True)\n",
        "raw.filter(1., 40., fir_design='firwin')\n",
        "data = raw.get_data()\n",
        "sfreq = raw.info['sfreq']\n",
        "times = raw.times\n",
        "\n",
        "# Compute analytic signal for symbolic dynamics\n",
        "analytic = hilbert(data)\n",
        "amplitude_envelope = np.abs(analytic)\n",
        "\n",
        "# Symbolic binarization (threshold by median)\n",
        "symbols = (amplitude_envelope > np.median(amplitude_envelope, axis=1, keepdims=True)).astype(int)\n",
        "\n",
        "# --- SRL-style symbolic stream encoding (A/B/H style) ---\n",
        "def encode_symbols(stream):\n",
        "    codes = []\n",
        "    for row in stream:\n",
        "        seq = ''\n",
        "        for v in row:\n",
        "            if v == 0:\n",
        "                seq += 'A'\n",
        "            else:\n",
        "                seq += 'H'\n",
        "        codes.append(seq)\n",
        "    return codes\n",
        "\n",
        "symbolic_streams = encode_symbols(symbols)\n",
        "\n",
        "# Compute entropy and symbolic divergence\n",
        "def symbolic_entropy(sequence):\n",
        "    counts = Counter(sequence)\n",
        "    probs = np.array(list(counts.values())) / len(sequence)\n",
        "    return entropy(probs, base=2)\n",
        "\n",
        "entropy_values = [symbolic_entropy(seq) for seq in symbolic_streams]\n",
        "\n",
        "# Plot entropy distribution\n",
        "plt.figure(figsize=(10, 4))\n",
        "plt.plot(entropy_values)\n",
        "plt.title(\"Symbolic Entropy Across Channels\")\n",
        "plt.xlabel(\"Channel\")\n",
        "plt.ylabel(\"Entropy (bits)\")\n",
        "plt.grid(True)\n",
        "plt.show()\n",
        "\n",
        "# Critical points: where entropy gradient changes sign\n",
        "entropy_gradient = np.gradient(entropy_values)\n",
        "inflections = np.where(np.diff(np.sign(entropy_gradient)))[0]\n",
        "\n",
        "print(f\"Ψ-Entropy Overlap Mean: {np.mean(entropy_values):.6f}\")\n",
        "print(f\"Ψ-Entropy Overlap Max: {np.max(entropy_values):.6f}\")\n",
        "print(f\"Number of Critical Inflections: {len(inflections)}\")\n",
        "print(f\"Inflection Channels: {inflections}\")"
      ],
      "metadata": {
        "colab": {
          "base_uri": "https://localhost:8080/",
          "height": 613
        },
        "id": "6a-dgWvvEeU1",
        "outputId": "ab1d4cb7-c4ff-42de-bd2b-1294c95765eb"
      },
      "execution_count": 4,
      "outputs": [
        {
          "output_type": "stream",
          "name": "stdout",
          "text": [
            "Reading /content/drive/MyDrive/SRL/EEG_Data/OpenNeuro_ds004902/sub-51/ses-2/eeg/sub-51_ses-2_task-eyesopen_eeg.fdt\n",
            "Reading 0 ... 145419  =      0.000 ...   290.838 secs...\n",
            "Filtering raw data in 1 contiguous segment\n",
            "Setting up band-pass filter from 1 - 40 Hz\n",
            "\n",
            "FIR filter parameters\n",
            "---------------------\n",
            "Designing a one-pass, zero-phase, non-causal bandpass filter:\n",
            "- Windowed time-domain design (firwin) method\n",
            "- Hamming window with 0.0194 passband ripple and 53 dB stopband attenuation\n",
            "- Lower passband edge: 1.00\n",
            "- Lower transition bandwidth: 1.00 Hz (-6 dB cutoff frequency: 0.50 Hz)\n",
            "- Upper passband edge: 40.00 Hz\n",
            "- Upper transition bandwidth: 10.00 Hz (-6 dB cutoff frequency: 45.00 Hz)\n",
            "- Filter length: 1651 samples (3.302 s)\n",
            "\n"
          ]
        },
        {
          "output_type": "stream",
          "name": "stderr",
          "text": [
            "<ipython-input-4-16c6420a8eea>:13: RuntimeWarning: The data contains 'boundary' events, indicating data discontinuities. Be cautious of filtering and epoching around these events.\n",
            "  raw = mne.io.read_raw_eeglab(eeg_path, preload=True)\n",
            "[Parallel(n_jobs=1)]: Done  17 tasks      | elapsed:    0.1s\n",
            "[Parallel(n_jobs=1)]: Done  61 out of  61 | elapsed:    0.2s finished\n"
          ]
        },
        {
          "output_type": "display_data",
          "data": {
            "text/plain": [
              "<Figure size 1000x400 with 1 Axes>"
            ],
            "image/png": "[encoded data removed]"
          },
          "metadata": {}
        },
        {
          "output_type": "stream",
          "name": "stdout",
          "text": [
            "Ψ-Entropy Overlap Mean: 1.000000\n",
            "Ψ-Entropy Overlap Max: 1.000000\n",
            "Number of Critical Inflections: 0\n",
            "Inflection Channels: []\n"
          ]
        }
      ]
    },
    {
      "cell_type": "code",
      "source": [
        "import mne\n",
        "import numpy as np\n",
        "import matplotlib.pyplot as plt\n",
        "from scipy.stats import entropy\n",
        "\n",
        "# Set EEG path to FaceRecognition task\n",
        "eeg_path = \"/content/drive/MyDrive/SRL/EEG_Data/OpenNeuro_ds002718_VideoGame/sub-002/eeg/sub-002_task-FaceRecognition_eeg.set\"\n",
        "\n",
        "# Load EEG file\n",
        "raw = mne.io.read_raw_eeglab(eeg_path, preload=True)\n",
        "raw.filter(1., 40., fir_design='firwin')\n",
        "\n",
        "# Extract EEG data\n",
        "data = raw.get_data()\n",
        "n_channels, n_samples = data.shape\n",
        "\n",
        "# Normalize data\n",
        "data = (data - data.mean(axis=1, keepdims=True)) / data.std(axis=1, keepdims=True)\n",
        "\n",
        "# Symbolic conversion (binary for simplicity)\n",
        "symbolic = np.where(data > 0, 1, 0)\n",
        "\n",
        "# Calculate per-channel entropy\n",
        "symbolic_entropy = np.array([entropy(np.bincount(symbolic[ch], minlength=2) / symbolic[ch].size, base=2)\n",
        "                             for ch in range(n_channels)])\n",
        "\n",
        "# Define Ψ(τ) as simple exponential decay\n",
        "τ = np.arange(1, 301)\n",
        "ψ = np.exp(-τ / 40)\n",
        "\n",
        "# Calculate overlap (dot product normalized)\n",
        "ψ_entropy_overlap = np.dot(symbolic_entropy, np.tile(ψ[:n_channels], (1, 1)).flatten()) / (np.linalg.norm(symbolic_entropy) * np.linalg.norm(ψ[:n_channels]))\n",
        "\n",
        "# Plot\n",
        "plt.figure(figsize=(10, 4))\n",
        "plt.bar(np.arange(n_channels), symbolic_entropy)\n",
        "plt.title(\"Symbolic Entropy Across Channels – FaceRecognition Task\")\n",
        "plt.xlabel(\"Channel\")\n",
        "plt.ylabel(\"Entropy (bits)\")\n",
        "plt.show()\n",
        "\n",
        "# Output summary\n",
        "print(\"Ψ-Entropy Overlap Score:\", ψ_entropy_overlap)\n",
        "print(\"Symbolic Entropy Mean:\", symbolic_entropy.mean())\n",
        "print(\"Symbolic Entropy Std:\", symbolic_entropy.std())"
      ],
      "metadata": {
        "colab": {
          "base_uri": "https://localhost:8080/",
          "height": 668
        },
        "id": "gwipLMF6FSVV",
        "outputId": "7ebc013f-c128-4049-af36-d5f35d45e20c"
      },
      "execution_count": 6,
      "outputs": [
        {
          "output_type": "stream",
          "name": "stderr",
          "text": [
            "<ipython-input-6-ad0beed57f15>:10: RuntimeWarning: Unknown types found, setting as type EEG:\n",
            "ekg: ['EEG063', 'EEG064']\n",
            "heog: ['EEG061']\n",
            "veog: ['EEG062']\n",
            "  raw = mne.io.read_raw_eeglab(eeg_path, preload=True)\n"
          ]
        },
        {
          "output_type": "stream",
          "name": "stdout",
          "text": [
            "Filtering raw data in 1 contiguous segment\n",
            "Setting up band-pass filter from 1 - 40 Hz\n",
            "\n",
            "FIR filter parameters\n",
            "---------------------\n",
            "Designing a one-pass, zero-phase, non-causal bandpass filter:\n",
            "- Windowed time-domain design (firwin) method\n",
            "- Hamming window with 0.0194 passband ripple and 53 dB stopband attenuation\n",
            "- Lower passband edge: 1.00\n",
            "- Lower transition bandwidth: 1.00 Hz (-6 dB cutoff frequency: 0.50 Hz)\n",
            "- Upper passband edge: 40.00 Hz\n",
            "- Upper transition bandwidth: 10.00 Hz (-6 dB cutoff frequency: 45.00 Hz)\n",
            "- Filter length: 825 samples (3.300 s)\n",
            "\n"
          ]
        },
        {
          "output_type": "stream",
          "name": "stderr",
          "text": [
            "<ipython-input-6-ad0beed57f15>:10: RuntimeWarning: The data contains 'boundary' events, indicating data discontinuities. Be cautious of filtering and epoching around these events.\n",
            "  raw = mne.io.read_raw_eeglab(eeg_path, preload=True)\n",
            "[Parallel(n_jobs=1)]: Done  17 tasks      | elapsed:    0.3s\n",
            "[Parallel(n_jobs=1)]: Done  71 tasks      | elapsed:    1.1s\n",
            "[Parallel(n_jobs=1)]: Done  74 out of  74 | elapsed:    1.1s finished\n"
          ]
        },
        {
          "output_type": "display_data",
          "data": {
            "text/plain": [
              "<Figure size 1000x400 with 1 Axes>"
            ],
            "image/png": "[encoded data removed]"
          },
          "metadata": {}
        },
        {
          "output_type": "stream",
          "name": "stdout",
          "text": [
            "Ψ-Entropy Overlap Score: 0.8873511976323545\n",
            "Symbolic Entropy Mean: 0.9954701289268794\n",
            "Symbolic Entropy Std: 0.02295264417742553\n"
          ]
        }
      ]
    },
    {
      "cell_type": "code",
      "source": [
        "import os\n",
        "import numpy as np\n",
        "import matplotlib.pyplot as plt\n",
        "import mne\n",
        "from scipy.stats import entropy\n",
        "\n",
        "# --- File paths ---\n",
        "eeg_paths = [\n",
        "    \"/content/drive/MyDrive/SRL/EEG_Data/OpenNeuro_ds002718_VideoGame/sub-002/eeg/sub-002_task-FaceRecognition_eeg.set\",\n",
        "    \"/content/drive/MyDrive/SRL/EEG_Data/OpenNeuro_ds002718_VideoGame/sub-003/eeg/sub-003_task-FaceRecognition_eeg.set\",\n",
        "    \"/content/drive/MyDrive/SRL/EEG_Data/OpenNeuro_ds002718_VideoGame/sub-004/eeg/sub-004_task-FaceRecognition_eeg.set\",\n",
        "    \"/content/drive/MyDrive/SRL/EEG_Data/OpenNeuro_ds002718_VideoGame/sub-005/eeg/sub-005_task-FaceRecognition_eeg.set\"\n",
        "]\n",
        "\n",
        "# --- Spiral memory waveform (Ψ) ---\n",
        "τ = np.linspace(0, 300, 300)\n",
        "Ψ = np.exp(-τ / 25)\n",
        "\n",
        "# --- Analysis loop ---\n",
        "for eeg_path in eeg_paths:\n",
        "    print(f\"\\nAnalyzing {os.path.basename(eeg_path)}\")\n",
        "    raw = mne.io.read_raw_eeglab(eeg_path, preload=True)\n",
        "    raw.filter(1., 40., fir_design='firwin')\n",
        "    data = raw.get_data()\n",
        "\n",
        "    # --- Symbolic entropy per channel ---\n",
        "    binarized = (data > 0).astype(int)\n",
        "    channel_entropy = [entropy(np.bincount(ch, minlength=2)/len(ch)) for ch in binarized]\n",
        "\n",
        "    # --- Ψ overlap computation ---\n",
        "    min_len = min(len(Ψ), data.shape[1])\n",
        "    entropy_series = np.mean(binarized[:, :min_len], axis=0)\n",
        "    Ψ_overlap = np.corrcoef(entropy_series, Ψ[:min_len])[0,1]\n",
        "\n",
        "    # --- Results ---\n",
        "    print(f\"Ψ-Entropy Overlap: {Ψ_overlap:.4f}\")\n",
        "    print(f\"Mean Symbolic Entropy: {np.mean(channel_entropy):.4f}\")\n",
        "    print(f\"Entropy Std Dev: {np.std(channel_entropy):.4f}\")\n",
        "\n",
        "    # --- Plot ---\n",
        "    plt.figure(figsize=(10, 4))\n",
        "    plt.bar(range(len(channel_entropy)), channel_entropy)\n",
        "    plt.ylim(0, 1.05)\n",
        "    plt.xlabel(\"Channel\")\n",
        "    plt.ylabel(\"Entropy (bits)\")\n",
        "    plt.title(f\"Symbolic Entropy – {os.path.basename(eeg_path)}\")\n",
        "    plt.show()"
      ],
      "metadata": {
        "colab": {
          "base_uri": "https://localhost:8080/",
          "height": 1000
        },
        "id": "gDXiyyV5FssS",
        "outputId": "51001bc3-47cd-4084-d2a8-a5823144c0bb"
      },
      "execution_count": 7,
      "outputs": [
        {
          "output_type": "stream",
          "name": "stdout",
          "text": [
            "\n",
            "Analyzing sub-002_task-FaceRecognition_eeg.set\n"
          ]
        },
        {
          "output_type": "stream",
          "name": "stderr",
          "text": [
            "<ipython-input-7-491a893b228e>:22: RuntimeWarning: Unknown types found, setting as type EEG:\n",
            "ekg: ['EEG063', 'EEG064']\n",
            "heog: ['EEG061']\n",
            "veog: ['EEG062']\n",
            "  raw = mne.io.read_raw_eeglab(eeg_path, preload=True)\n"
          ]
        },
        {
          "output_type": "stream",
          "name": "stdout",
          "text": [
            "Filtering raw data in 1 contiguous segment\n",
            "Setting up band-pass filter from 1 - 40 Hz\n",
            "\n",
            "FIR filter parameters\n",
            "---------------------\n",
            "Designing a one-pass, zero-phase, non-causal bandpass filter:\n",
            "- Windowed time-domain design (firwin) method\n",
            "- Hamming window with 0.0194 passband ripple and 53 dB stopband attenuation\n",
            "- Lower passband edge: 1.00\n",
            "- Lower transition bandwidth: 1.00 Hz (-6 dB cutoff frequency: 0.50 Hz)\n",
            "- Upper passband edge: 40.00 Hz\n",
            "- Upper transition bandwidth: 10.00 Hz (-6 dB cutoff frequency: 45.00 Hz)\n",
            "- Filter length: 825 samples (3.300 s)\n",
            "\n"
          ]
        },
        {
          "output_type": "stream",
          "name": "stderr",
          "text": [
            "<ipython-input-7-491a893b228e>:22: RuntimeWarning: The data contains 'boundary' events, indicating data discontinuities. Be cautious of filtering and epoching around these events.\n",
            "  raw = mne.io.read_raw_eeglab(eeg_path, preload=True)\n",
            "[Parallel(n_jobs=1)]: Done  17 tasks      | elapsed:    0.3s\n",
            "[Parallel(n_jobs=1)]: Done  71 tasks      | elapsed:    1.2s\n",
            "[Parallel(n_jobs=1)]: Done  74 out of  74 | elapsed:    1.2s finished\n"
          ]
        },
        {
          "output_type": "stream",
          "name": "stdout",
          "text": [
            "Ψ-Entropy Overlap: -0.3721\n",
            "Mean Symbolic Entropy: 0.6900\n",
            "Entropy Std Dev: 0.0159\n"
          ]
        },
        {
          "output_type": "display_data",
          "data": {
            "text/plain": [
              "<Figure size 1000x400 with 1 Axes>"
            ],
            "image/png": "[encoded data removed]"
          },
          "metadata": {}
        },
        {
          "output_type": "stream",
          "name": "stdout",
          "text": [
            "\n",
            "Analyzing sub-003_task-FaceRecognition_eeg.set\n"
          ]
        },
        {
          "output_type": "stream",
          "name": "stderr",
          "text": [
            "<ipython-input-7-491a893b228e>:22: RuntimeWarning: Unknown types found, setting as type EEG:\n",
            "ekg: ['EEG063', 'EEG064']\n",
            "heog: ['EEG061']\n",
            "veog: ['EEG062']\n",
            "  raw = mne.io.read_raw_eeglab(eeg_path, preload=True)\n"
          ]
        },
        {
          "output_type": "stream",
          "name": "stdout",
          "text": [
            "Filtering raw data in 1 contiguous segment\n",
            "Setting up band-pass filter from 1 - 40 Hz\n",
            "\n",
            "FIR filter parameters\n",
            "---------------------\n",
            "Designing a one-pass, zero-phase, non-causal bandpass filter:\n",
            "- Windowed time-domain design (firwin) method\n",
            "- Hamming window with 0.0194 passband ripple and 53 dB stopband attenuation\n",
            "- Lower passband edge: 1.00\n",
            "- Lower transition bandwidth: 1.00 Hz (-6 dB cutoff frequency: 0.50 Hz)\n",
            "- Upper passband edge: 40.00 Hz\n",
            "- Upper transition bandwidth: 10.00 Hz (-6 dB cutoff frequency: 45.00 Hz)\n",
            "- Filter length: 825 samples (3.300 s)\n",
            "\n"
          ]
        },
        {
          "output_type": "stream",
          "name": "stderr",
          "text": [
            "<ipython-input-7-491a893b228e>:22: RuntimeWarning: The data contains 'boundary' events, indicating data discontinuities. Be cautious of filtering and epoching around these events.\n",
            "  raw = mne.io.read_raw_eeglab(eeg_path, preload=True)\n",
            "[Parallel(n_jobs=1)]: Done  17 tasks      | elapsed:    0.3s\n",
            "[Parallel(n_jobs=1)]: Done  71 tasks      | elapsed:    1.1s\n",
            "[Parallel(n_jobs=1)]: Done  74 out of  74 | elapsed:    1.1s finished\n"
          ]
        },
        {
          "output_type": "stream",
          "name": "stdout",
          "text": [
            "Ψ-Entropy Overlap: 0.1433\n",
            "Mean Symbolic Entropy: 0.6786\n",
            "Entropy Std Dev: 0.0117\n"
          ]
        },
        {
          "output_type": "display_data",
          "data": {
            "text/plain": [
              "<Figure size 1000x400 with 1 Axes>"
            ],
            "image/png": "[encoded data removed]"
          },
          "metadata": {}
        },
        {
          "output_type": "stream",
          "name": "stdout",
          "text": [
            "\n",
            "Analyzing sub-004_task-FaceRecognition_eeg.set\n"
          ]
        },
        {
          "output_type": "stream",
          "name": "stderr",
          "text": [
            "<ipython-input-7-491a893b228e>:22: RuntimeWarning: Unknown types found, setting as type EEG:\n",
            "ekg: ['EEG063', 'EEG064']\n",
            "heog: ['EEG061']\n",
            "veog: ['EEG062']\n",
            "  raw = mne.io.read_raw_eeglab(eeg_path, preload=True)\n"
          ]
        },
        {
          "output_type": "stream",
          "name": "stdout",
          "text": [
            "Filtering raw data in 1 contiguous segment\n",
            "Setting up band-pass filter from 1 - 40 Hz\n",
            "\n",
            "FIR filter parameters\n",
            "---------------------\n",
            "Designing a one-pass, zero-phase, non-causal bandpass filter:\n",
            "- Windowed time-domain design (firwin) method\n",
            "- Hamming window with 0.0194 passband ripple and 53 dB stopband attenuation\n",
            "- Lower passband edge: 1.00\n",
            "- Lower transition bandwidth: 1.00 Hz (-6 dB cutoff frequency: 0.50 Hz)\n",
            "- Upper passband edge: 40.00 Hz\n",
            "- Upper transition bandwidth: 10.00 Hz (-6 dB cutoff frequency: 45.00 Hz)\n",
            "- Filter length: 825 samples (3.300 s)\n",
            "\n"
          ]
        },
        {
          "output_type": "stream",
          "name": "stderr",
          "text": [
            "<ipython-input-7-491a893b228e>:22: RuntimeWarning: The data contains 'boundary' events, indicating data discontinuities. Be cautious of filtering and epoching around these events.\n",
            "  raw = mne.io.read_raw_eeglab(eeg_path, preload=True)\n",
            "[Parallel(n_jobs=1)]: Done  17 tasks      | elapsed:    0.3s\n",
            "[Parallel(n_jobs=1)]: Done  71 tasks      | elapsed:    1.1s\n",
            "[Parallel(n_jobs=1)]: Done  74 out of  74 | elapsed:    1.2s finished\n"
          ]
        },
        {
          "output_type": "stream",
          "name": "stdout",
          "text": [
            "Ψ-Entropy Overlap: -0.2160\n",
            "Mean Symbolic Entropy: 0.6899\n",
            "Entropy Std Dev: 0.0114\n"
          ]
        },
        {
          "output_type": "display_data",
          "data": {
            "text/plain": [
              "<Figure size 1000x400 with 1 Axes>"
            ],
            "image/png": "[encoded data removed]"
          },
          "metadata": {}
        },
        {
          "output_type": "stream",
          "name": "stdout",
          "text": [
            "\n",
            "Analyzing sub-005_task-FaceRecognition_eeg.set\n"
          ]
        },
        {
          "output_type": "stream",
          "name": "stderr",
          "text": [
            "<ipython-input-7-491a893b228e>:22: RuntimeWarning: Unknown types found, setting as type EEG:\n",
            "ekg: ['EEG063', 'EEG064']\n",
            "heog: ['EEG061']\n",
            "veog: ['EEG062']\n",
            "  raw = mne.io.read_raw_eeglab(eeg_path, preload=True)\n"
          ]
        },
        {
          "output_type": "stream",
          "name": "stdout",
          "text": [
            "Filtering raw data in 1 contiguous segment\n",
            "Setting up band-pass filter from 1 - 40 Hz\n",
            "\n",
            "FIR filter parameters\n",
            "---------------------\n",
            "Designing a one-pass, zero-phase, non-causal bandpass filter:\n",
            "- Windowed time-domain design (firwin) method\n",
            "- Hamming window with 0.0194 passband ripple and 53 dB stopband attenuation\n",
            "- Lower passband edge: 1.00\n",
            "- Lower transition bandwidth: 1.00 Hz (-6 dB cutoff frequency: 0.50 Hz)\n",
            "- Upper passband edge: 40.00 Hz\n",
            "- Upper transition bandwidth: 10.00 Hz (-6 dB cutoff frequency: 45.00 Hz)\n",
            "- Filter length: 825 samples (3.300 s)\n",
            "\n"
          ]
        },
        {
          "output_type": "stream",
          "name": "stderr",
          "text": [
            "<ipython-input-7-491a893b228e>:22: RuntimeWarning: The data contains 'boundary' events, indicating data discontinuities. Be cautious of filtering and epoching around these events.\n",
            "  raw = mne.io.read_raw_eeglab(eeg_path, preload=True)\n",
            "[Parallel(n_jobs=1)]: Done  17 tasks      | elapsed:    0.3s\n",
            "[Parallel(n_jobs=1)]: Done  71 tasks      | elapsed:    1.1s\n",
            "[Parallel(n_jobs=1)]: Done  74 out of  74 | elapsed:    1.2s finished\n"
          ]
        },
        {
          "output_type": "stream",
          "name": "stdout",
          "text": [
            "Ψ-Entropy Overlap: 0.2288\n",
            "Mean Symbolic Entropy: 0.6795\n",
            "Entropy Std Dev: 0.0124\n"
          ]
        },
        {
          "output_type": "display_data",
          "data": {
            "text/plain": [
              "<Figure size 1000x400 with 1 Axes>"
            ],
            "image/png": "[encoded data removed]"
          },
          "metadata": {}
        }
      ]
    },
    {
      "cell_type": "code",
      "source": [
        "import os\n",
        "import numpy as np\n",
        "import matplotlib.pyplot as plt\n",
        "import mne\n",
        "from scipy.stats import entropy\n",
        "from sklearn.metrics import mean_squared_error\n",
        "\n",
        "# --- Spiral reference model Ψ(τ) ---\n",
        "τ = np.linspace(0, 300, 300)\n",
        "ψ_reference_full = np.exp(-0.03 * τ) * np.cos(0.2 * τ)\n",
        "\n",
        "# --- Function to compute symbolic entropy per channel ---\n",
        "def compute_symbolic_entropy(data, bins=10):\n",
        "    entropies = []\n",
        "    for channel in data:\n",
        "        hist, _ = np.histogram(channel, bins=bins, density=True)\n",
        "        entropies.append(entropy(hist + 1e-12, base=2))  # numerical stability\n",
        "    return np.array(entropies)\n",
        "\n",
        "# --- EEG Processing Loop for sub-006 to sub-010 ---\n",
        "base_path = \"/content/drive/MyDrive/SRL/EEG_Data/OpenNeuro_ds002718_VideoGame\"\n",
        "subs = [\"sub-006\", \"sub-007\", \"sub-008\", \"sub-009\", \"sub-010\"]\n",
        "\n",
        "for sub in subs:\n",
        "    eeg_path = f\"{base_path}/{sub}/eeg/{sub}_task-FaceRecognition_eeg.set\"\n",
        "    print(f\"\\nAnalyzing {sub}_task-FaceRecognition_eeg.set\")\n",
        "\n",
        "    raw = mne.io.read_raw_eeglab(eeg_path, preload=True)\n",
        "    raw.filter(1., 40., fir_design='firwin')\n",
        "\n",
        "    data = raw.get_data()\n",
        "    symbolic_entropy = compute_symbolic_entropy(data)\n",
        "\n",
        "    # --- Match Ψ(τ) size to entropy vector ---\n",
        "    ψ_downsampled = np.interp(\n",
        "        np.linspace(0, len(ψ_reference_full)-1, len(symbolic_entropy)),\n",
        "        np.arange(len(ψ_reference_full)),\n",
        "        ψ_reference_full\n",
        "    )\n",
        "\n",
        "    ψ_entropy_overlap = 1 - mean_squared_error(symbolic_entropy, ψ_downsampled)\n",
        "\n",
        "    print(f\"Ψ-Entropy Overlap: {ψ_entropy_overlap:.4f}\")\n",
        "    print(f\"Mean Symbolic Entropy: {symbolic_entropy.mean():.4f}\")\n",
        "    print(f\"Entropy Std Dev: {symbolic_entropy.std():.4f}\")\n",
        "\n",
        "    # --- Plot ---\n",
        "    plt.figure(figsize=(10, 4))\n",
        "    plt.bar(range(len(symbolic_entropy)), symbolic_entropy)\n",
        "    plt.title(f\"Symbolic Entropy – {sub}_task-FaceRecognition_eeg.set\")\n",
        "    plt.xlabel(\"Channel\")\n",
        "    plt.ylabel(\"Entropy (bits)\")\n",
        "    plt.ylim(0, 1.0)\n",
        "    plt.show()"
      ],
      "metadata": {
        "colab": {
          "base_uri": "https://localhost:8080/",
          "height": 1000
        },
        "id": "VlQUqdZ1IFJ1",
        "outputId": "53045c56-6246-46a1-f3a6-faab87a4a58c"
      },
      "execution_count": 9,
      "outputs": [
        {
          "output_type": "stream",
          "name": "stdout",
          "text": [
            "\n",
            "Analyzing sub-006_task-FaceRecognition_eeg.set\n"
          ]
        },
        {
          "output_type": "stream",
          "name": "stderr",
          "text": [
            "<ipython-input-9-d74ce373ba2b>:28: RuntimeWarning: Unknown types found, setting as type EEG:\n",
            "ekg: ['EEG063', 'EEG064']\n",
            "heog: ['EEG061']\n",
            "veog: ['EEG062']\n",
            "  raw = mne.io.read_raw_eeglab(eeg_path, preload=True)\n"
          ]
        },
        {
          "output_type": "stream",
          "name": "stdout",
          "text": [
            "Filtering raw data in 1 contiguous segment\n",
            "Setting up band-pass filter from 1 - 40 Hz\n",
            "\n",
            "FIR filter parameters\n",
            "---------------------\n",
            "Designing a one-pass, zero-phase, non-causal bandpass filter:\n",
            "- Windowed time-domain design (firwin) method\n",
            "- Hamming window with 0.0194 passband ripple and 53 dB stopband attenuation\n",
            "- Lower passband edge: 1.00\n",
            "- Lower transition bandwidth: 1.00 Hz (-6 dB cutoff frequency: 0.50 Hz)\n",
            "- Upper passband edge: 40.00 Hz\n",
            "- Upper transition bandwidth: 10.00 Hz (-6 dB cutoff frequency: 45.00 Hz)\n",
            "- Filter length: 825 samples (3.300 s)\n",
            "\n"
          ]
        },
        {
          "output_type": "stream",
          "name": "stderr",
          "text": [
            "<ipython-input-9-d74ce373ba2b>:28: RuntimeWarning: The data contains 'boundary' events, indicating data discontinuities. Be cautious of filtering and epoching around these events.\n",
            "  raw = mne.io.read_raw_eeglab(eeg_path, preload=True)\n",
            "[Parallel(n_jobs=1)]: Done  17 tasks      | elapsed:    0.3s\n",
            "[Parallel(n_jobs=1)]: Done  71 tasks      | elapsed:    1.1s\n",
            "[Parallel(n_jobs=1)]: Done  74 out of  74 | elapsed:    1.1s finished\n"
          ]
        },
        {
          "output_type": "stream",
          "name": "stdout",
          "text": [
            "Ψ-Entropy Overlap: -0.8440\n",
            "Mean Symbolic Entropy: 1.3259\n",
            "Entropy Std Dev: 0.2852\n"
          ]
        },
        {
          "output_type": "display_data",
          "data": {
            "text/plain": [
              "<Figure size 1000x400 with 1 Axes>"
            ],
            "image/png": "[encoded data removed]"
          },
          "metadata": {}
        },
        {
          "output_type": "stream",
          "name": "stdout",
          "text": [
            "\n",
            "Analyzing sub-007_task-FaceRecognition_eeg.set\n"
          ]
        },
        {
          "output_type": "stream",
          "name": "stderr",
          "text": [
            "<ipython-input-9-d74ce373ba2b>:28: RuntimeWarning: Unknown types found, setting as type EEG:\n",
            "ekg: ['EEG063', 'EEG064']\n",
            "heog: ['EEG061']\n",
            "veog: ['EEG062']\n",
            "  raw = mne.io.read_raw_eeglab(eeg_path, preload=True)\n",
            "<ipython-input-9-d74ce373ba2b>:28: RuntimeWarning: Estimated head radius (11.1 cm) is above the 99th percentile for adult head size. Check if the montage_units argument is correct (the default is \"mm\", but your channel positions may be in different units).\n",
            "  raw = mne.io.read_raw_eeglab(eeg_path, preload=True)\n"
          ]
        },
        {
          "output_type": "stream",
          "name": "stdout",
          "text": [
            "Filtering raw data in 1 contiguous segment\n",
            "Setting up band-pass filter from 1 - 40 Hz\n",
            "\n",
            "FIR filter parameters\n",
            "---------------------\n",
            "Designing a one-pass, zero-phase, non-causal bandpass filter:\n",
            "- Windowed time-domain design (firwin) method\n",
            "- Hamming window with 0.0194 passband ripple and 53 dB stopband attenuation\n",
            "- Lower passband edge: 1.00\n",
            "- Lower transition bandwidth: 1.00 Hz (-6 dB cutoff frequency: 0.50 Hz)\n",
            "- Upper passband edge: 40.00 Hz\n",
            "- Upper transition bandwidth: 10.00 Hz (-6 dB cutoff frequency: 45.00 Hz)\n",
            "- Filter length: 825 samples (3.300 s)\n",
            "\n"
          ]
        },
        {
          "output_type": "stream",
          "name": "stderr",
          "text": [
            "<ipython-input-9-d74ce373ba2b>:28: RuntimeWarning: The data contains 'boundary' events, indicating data discontinuities. Be cautious of filtering and epoching around these events.\n",
            "  raw = mne.io.read_raw_eeglab(eeg_path, preload=True)\n",
            "[Parallel(n_jobs=1)]: Done  17 tasks      | elapsed:    0.3s\n",
            "[Parallel(n_jobs=1)]: Done  71 tasks      | elapsed:    1.1s\n",
            "[Parallel(n_jobs=1)]: Done  74 out of  74 | elapsed:    1.1s finished\n"
          ]
        },
        {
          "output_type": "stream",
          "name": "stdout",
          "text": [
            "Ψ-Entropy Overlap: -0.9961\n",
            "Mean Symbolic Entropy: 1.3524\n",
            "Entropy Std Dev: 0.4305\n"
          ]
        },
        {
          "output_type": "display_data",
          "data": {
            "text/plain": [
              "<Figure size 1000x400 with 1 Axes>"
            ],
            "image/png": "[encoded data removed]"
          },
          "metadata": {}
        },
        {
          "output_type": "stream",
          "name": "stdout",
          "text": [
            "\n",
            "Analyzing sub-008_task-FaceRecognition_eeg.set\n"
          ]
        },
        {
          "output_type": "stream",
          "name": "stderr",
          "text": [
            "<ipython-input-9-d74ce373ba2b>:28: RuntimeWarning: Unknown types found, setting as type EEG:\n",
            "ekg: ['EEG063', 'EEG064']\n",
            "heog: ['EEG061']\n",
            "veog: ['EEG062']\n",
            "  raw = mne.io.read_raw_eeglab(eeg_path, preload=True)\n"
          ]
        },
        {
          "output_type": "stream",
          "name": "stdout",
          "text": [
            "Filtering raw data in 1 contiguous segment\n",
            "Setting up band-pass filter from 1 - 40 Hz\n",
            "\n",
            "FIR filter parameters\n",
            "---------------------\n",
            "Designing a one-pass, zero-phase, non-causal bandpass filter:\n",
            "- Windowed time-domain design (firwin) method\n",
            "- Hamming window with 0.0194 passband ripple and 53 dB stopband attenuation\n",
            "- Lower passband edge: 1.00\n",
            "- Lower transition bandwidth: 1.00 Hz (-6 dB cutoff frequency: 0.50 Hz)\n",
            "- Upper passband edge: 40.00 Hz\n",
            "- Upper transition bandwidth: 10.00 Hz (-6 dB cutoff frequency: 45.00 Hz)\n",
            "- Filter length: 825 samples (3.300 s)\n",
            "\n"
          ]
        },
        {
          "output_type": "stream",
          "name": "stderr",
          "text": [
            "<ipython-input-9-d74ce373ba2b>:28: RuntimeWarning: The data contains 'boundary' events, indicating data discontinuities. Be cautious of filtering and epoching around these events.\n",
            "  raw = mne.io.read_raw_eeglab(eeg_path, preload=True)\n",
            "[Parallel(n_jobs=1)]: Done  17 tasks      | elapsed:    0.3s\n",
            "[Parallel(n_jobs=1)]: Done  71 tasks      | elapsed:    1.1s\n",
            "[Parallel(n_jobs=1)]: Done  74 out of  74 | elapsed:    1.1s finished\n"
          ]
        },
        {
          "output_type": "stream",
          "name": "stdout",
          "text": [
            "Ψ-Entropy Overlap: 0.6260\n",
            "Mean Symbolic Entropy: 0.4261\n",
            "Entropy Std Dev: 0.3998\n"
          ]
        },
        {
          "output_type": "display_data",
          "data": {
            "text/plain": [
              "<Figure size 1000x400 with 1 Axes>"
            ],
            "image/png": "[encoded data removed]"
          },
          "metadata": {}
        },
        {
          "output_type": "stream",
          "name": "stdout",
          "text": [
            "\n",
            "Analyzing sub-009_task-FaceRecognition_eeg.set\n"
          ]
        },
        {
          "output_type": "stream",
          "name": "stderr",
          "text": [
            "<ipython-input-9-d74ce373ba2b>:28: RuntimeWarning: Unknown types found, setting as type EEG:\n",
            "ekg: ['EEG063', 'EEG064']\n",
            "heog: ['EEG061']\n",
            "veog: ['EEG062']\n",
            "  raw = mne.io.read_raw_eeglab(eeg_path, preload=True)\n"
          ]
        },
        {
          "output_type": "stream",
          "name": "stdout",
          "text": [
            "Filtering raw data in 1 contiguous segment\n",
            "Setting up band-pass filter from 1 - 40 Hz\n",
            "\n",
            "FIR filter parameters\n",
            "---------------------\n",
            "Designing a one-pass, zero-phase, non-causal bandpass filter:\n",
            "- Windowed time-domain design (firwin) method\n",
            "- Hamming window with 0.0194 passband ripple and 53 dB stopband attenuation\n",
            "- Lower passband edge: 1.00\n",
            "- Lower transition bandwidth: 1.00 Hz (-6 dB cutoff frequency: 0.50 Hz)\n",
            "- Upper passband edge: 40.00 Hz\n",
            "- Upper transition bandwidth: 10.00 Hz (-6 dB cutoff frequency: 45.00 Hz)\n",
            "- Filter length: 825 samples (3.300 s)\n",
            "\n"
          ]
        },
        {
          "output_type": "stream",
          "name": "stderr",
          "text": [
            "<ipython-input-9-d74ce373ba2b>:28: RuntimeWarning: The data contains 'boundary' events, indicating data discontinuities. Be cautious of filtering and epoching around these events.\n",
            "  raw = mne.io.read_raw_eeglab(eeg_path, preload=True)\n",
            "[Parallel(n_jobs=1)]: Done  17 tasks      | elapsed:    0.3s\n",
            "[Parallel(n_jobs=1)]: Done  71 tasks      | elapsed:    1.1s\n",
            "[Parallel(n_jobs=1)]: Done  74 out of  74 | elapsed:    1.1s finished\n"
          ]
        },
        {
          "output_type": "stream",
          "name": "stdout",
          "text": [
            "Ψ-Entropy Overlap: 0.3227\n",
            "Mean Symbolic Entropy: 0.7691\n",
            "Entropy Std Dev: 0.2619\n"
          ]
        },
        {
          "output_type": "display_data",
          "data": {
            "text/plain": [
              "<Figure size 1000x400 with 1 Axes>"
            ],
            "image/png": "[encoded data removed]"
          },
          "metadata": {}
        },
        {
          "output_type": "stream",
          "name": "stdout",
          "text": [
            "\n",
            "Analyzing sub-010_task-FaceRecognition_eeg.set\n"
          ]
        },
        {
          "output_type": "stream",
          "name": "stderr",
          "text": [
            "<ipython-input-9-d74ce373ba2b>:28: RuntimeWarning: Unknown types found, setting as type EEG:\n",
            "ekg: ['EEG063', 'EEG064']\n",
            "heog: ['EEG061']\n",
            "veog: ['EEG062']\n",
            "  raw = mne.io.read_raw_eeglab(eeg_path, preload=True)\n",
            "<ipython-input-9-d74ce373ba2b>:28: RuntimeWarning: Estimated head radius (11.0 cm) is above the 99th percentile for adult head size. Check if the montage_units argument is correct (the default is \"mm\", but your channel positions may be in different units).\n",
            "  raw = mne.io.read_raw_eeglab(eeg_path, preload=True)\n"
          ]
        },
        {
          "output_type": "stream",
          "name": "stdout",
          "text": [
            "Filtering raw data in 1 contiguous segment\n",
            "Setting up band-pass filter from 1 - 40 Hz\n",
            "\n",
            "FIR filter parameters\n",
            "---------------------\n",
            "Designing a one-pass, zero-phase, non-causal bandpass filter:\n",
            "- Windowed time-domain design (firwin) method\n",
            "- Hamming window with 0.0194 passband ripple and 53 dB stopband attenuation\n",
            "- Lower passband edge: 1.00\n",
            "- Lower transition bandwidth: 1.00 Hz (-6 dB cutoff frequency: 0.50 Hz)\n",
            "- Upper passband edge: 40.00 Hz\n",
            "- Upper transition bandwidth: 10.00 Hz (-6 dB cutoff frequency: 45.00 Hz)\n",
            "- Filter length: 825 samples (3.300 s)\n",
            "\n"
          ]
        },
        {
          "output_type": "stream",
          "name": "stderr",
          "text": [
            "<ipython-input-9-d74ce373ba2b>:28: RuntimeWarning: The data contains 'boundary' events, indicating data discontinuities. Be cautious of filtering and epoching around these events.\n",
            "  raw = mne.io.read_raw_eeglab(eeg_path, preload=True)\n",
            "[Parallel(n_jobs=1)]: Done  17 tasks      | elapsed:    0.3s\n",
            "[Parallel(n_jobs=1)]: Done  71 tasks      | elapsed:    1.1s\n",
            "[Parallel(n_jobs=1)]: Done  74 out of  74 | elapsed:    1.1s finished\n"
          ]
        },
        {
          "output_type": "stream",
          "name": "stdout",
          "text": [
            "Ψ-Entropy Overlap: 0.7613\n",
            "Mean Symbolic Entropy: 0.4151\n",
            "Entropy Std Dev: 0.2100\n"
          ]
        },
        {
          "output_type": "display_data",
          "data": {
            "text/plain": [
              "<Figure size 1000x400 with 1 Axes>"
            ],
            "image/png": "[encoded data removed]"
          },
          "metadata": {}
        }
      ]
    },
    {
      "cell_type": "code",
      "source": [
        "import os\n",
        "import numpy as np\n",
        "import mne\n",
        "import matplotlib.pyplot as plt\n",
        "from sklearn.metrics import mean_squared_error\n",
        "from scipy.stats import entropy\n",
        "\n",
        "# Set EEG directory\n",
        "eeg_dir = \"/content/drive/MyDrive/SRL/EEG_Data/OpenNeuro_ds002718_VideoGame\"\n",
        "eeg_files = []\n",
        "for root, _, files in os.walk(eeg_dir):\n",
        "    for file in files:\n",
        "        if file.endswith(\"_task-FaceRecognition_eeg.set\"):\n",
        "            eeg_files.append(os.path.join(root, file))\n",
        "\n",
        "# Define reference Ψ profile\n",
        "τ = np.linspace(0, 300, 300)\n",
        "ψ_reference = np.exp(-τ / 40) * np.cos(2 * np.pi * τ / 80)\n",
        "\n",
        "# Symbolic entropy function\n",
        "def compute_symbolic_entropy(data):\n",
        "    entropies = []\n",
        "    for ch in data:\n",
        "        bins = np.histogram(ch, bins=2)[0]\n",
        "        probs = bins / np.sum(bins)\n",
        "        ent = entropy(probs, base=2)\n",
        "        entropies.append(ent)\n",
        "    return np.array(entropies)\n",
        "\n",
        "# Output results\n",
        "results = []\n",
        "\n",
        "for i, eeg_path in enumerate(eeg_files):\n",
        "    print(f\"\\nAnalyzing {os.path.basename(eeg_path)}\")\n",
        "    try:\n",
        "        raw = mne.io.read_raw_eeglab(eeg_path, preload=True)\n",
        "        raw.filter(1., 40., fir_design='firwin')\n",
        "        data = raw.get_data()\n",
        "        symbolic_entropy = compute_symbolic_entropy(data)\n",
        "\n",
        "        # Interpolate and compare with Ψ\n",
        "        interpolated = np.interp(np.linspace(0, len(symbolic_entropy), len(ψ_reference)),\n",
        "                                 np.arange(len(symbolic_entropy)), symbolic_entropy)\n",
        "        ψ_entropy_overlap = 1 - mean_squared_error(symbolic_entropy[:len(ψ_reference)], interpolated)\n",
        "\n",
        "        mean_ent = np.mean(symbolic_entropy)\n",
        "        std_ent = np.std(symbolic_entropy)\n",
        "\n",
        "        results.append({\n",
        "            \"subject\": os.path.basename(eeg_path),\n",
        "            \"overlap\": round(ψ_entropy_overlap, 4),\n",
        "            \"mean_entropy\": round(mean_ent, 4),\n",
        "            \"std_entropy\": round(std_ent, 4)\n",
        "        })\n",
        "\n",
        "        if len(eeg_files) <= 10:\n",
        "            # Plot per subject if under threshold\n",
        "            plt.figure(figsize=(10, 4))\n",
        "            plt.bar(np.arange(len(symbolic_entropy)), symbolic_entropy)\n",
        "            plt.ylim(0, 1)\n",
        "            plt.title(f\"Symbolic Entropy – {os.path.basename(eeg_path)}\")\n",
        "            plt.xlabel(\"Channel\")\n",
        "            plt.ylabel(\"Entropy (bits)\")\n",
        "            plt.tight_layout()\n",
        "            plt.show()\n",
        "\n",
        "    except Exception as e:\n",
        "        print(f\"Failed on {eeg_path}: {e}\")\n",
        "        continue\n",
        "\n",
        "# Save results\n",
        "import pandas as pd\n",
        "df = pd.DataFrame(results)\n",
        "output_path = \"/content/drive/MyDrive/SRL/phase8_eeg_symbolic_entropy_results.csv\"\n",
        "df.to_csv(output_path, index=False)\n",
        "print(f\"\\n✅ Saved summary to: {output_path}\")"
      ],
      "metadata": {
        "colab": {
          "base_uri": "https://localhost:8080/"
        },
        "id": "p77IOO_1J7UL",
        "outputId": "96f0c28d-0af1-4981-ff3d-156a84417801"
      },
      "execution_count": 10,
      "outputs": [
        {
          "output_type": "stream",
          "name": "stdout",
          "text": [
            "\n",
            "Analyzing sub-002_task-FaceRecognition_eeg.set\n"
          ]
        },
        {
          "output_type": "stream",
          "name": "stderr",
          "text": [
            "<ipython-input-10-a9ee581729ef>:36: RuntimeWarning: Unknown types found, setting as type EEG:\n",
            "ekg: ['EEG063', 'EEG064']\n",
            "heog: ['EEG061']\n",
            "veog: ['EEG062']\n",
            "  raw = mne.io.read_raw_eeglab(eeg_path, preload=True)\n"
          ]
        },
        {
          "output_type": "stream",
          "name": "stdout",
          "text": [
            "Filtering raw data in 1 contiguous segment\n",
            "Setting up band-pass filter from 1 - 40 Hz\n",
            "\n",
            "FIR filter parameters\n",
            "---------------------\n",
            "Designing a one-pass, zero-phase, non-causal bandpass filter:\n",
            "- Windowed time-domain design (firwin) method\n",
            "- Hamming window with 0.0194 passband ripple and 53 dB stopband attenuation\n",
            "- Lower passband edge: 1.00\n",
            "- Lower transition bandwidth: 1.00 Hz (-6 dB cutoff frequency: 0.50 Hz)\n",
            "- Upper passband edge: 40.00 Hz\n",
            "- Upper transition bandwidth: 10.00 Hz (-6 dB cutoff frequency: 45.00 Hz)\n",
            "- Filter length: 825 samples (3.300 s)\n",
            "\n"
          ]
        },
        {
          "output_type": "stream",
          "name": "stderr",
          "text": [
            "<ipython-input-10-a9ee581729ef>:36: RuntimeWarning: The data contains 'boundary' events, indicating data discontinuities. Be cautious of filtering and epoching around these events.\n",
            "  raw = mne.io.read_raw_eeglab(eeg_path, preload=True)\n",
            "[Parallel(n_jobs=1)]: Done  17 tasks      | elapsed:    0.3s\n",
            "[Parallel(n_jobs=1)]: Done  71 tasks      | elapsed:    1.2s\n",
            "[Parallel(n_jobs=1)]: Done  74 out of  74 | elapsed:    1.3s finished\n"
          ]
        },
        {
          "output_type": "stream",
          "name": "stdout",
          "text": [
            "Failed on /content/drive/MyDrive/SRL/EEG_Data/OpenNeuro_ds002718_VideoGame/sub-002/eeg/sub-002_task-FaceRecognition_eeg.set: Found input variables with inconsistent numbers of samples: [74, 300]\n",
            "\n",
            "Analyzing sub-003_task-FaceRecognition_eeg.set\n"
          ]
        },
        {
          "output_type": "stream",
          "name": "stderr",
          "text": [
            "<ipython-input-10-a9ee581729ef>:36: RuntimeWarning: Unknown types found, setting as type EEG:\n",
            "ekg: ['EEG063', 'EEG064']\n",
            "heog: ['EEG061']\n",
            "veog: ['EEG062']\n",
            "  raw = mne.io.read_raw_eeglab(eeg_path, preload=True)\n"
          ]
        },
        {
          "output_type": "stream",
          "name": "stdout",
          "text": [
            "Filtering raw data in 1 contiguous segment\n",
            "Setting up band-pass filter from 1 - 40 Hz\n",
            "\n",
            "FIR filter parameters\n",
            "---------------------\n",
            "Designing a one-pass, zero-phase, non-causal bandpass filter:\n",
            "- Windowed time-domain design (firwin) method\n",
            "- Hamming window with 0.0194 passband ripple and 53 dB stopband attenuation\n",
            "- Lower passband edge: 1.00\n",
            "- Lower transition bandwidth: 1.00 Hz (-6 dB cutoff frequency: 0.50 Hz)\n",
            "- Upper passband edge: 40.00 Hz\n",
            "- Upper transition bandwidth: 10.00 Hz (-6 dB cutoff frequency: 45.00 Hz)\n",
            "- Filter length: 825 samples (3.300 s)\n",
            "\n"
          ]
        },
        {
          "output_type": "stream",
          "name": "stderr",
          "text": [
            "<ipython-input-10-a9ee581729ef>:36: RuntimeWarning: The data contains 'boundary' events, indicating data discontinuities. Be cautious of filtering and epoching around these events.\n",
            "  raw = mne.io.read_raw_eeglab(eeg_path, preload=True)\n",
            "[Parallel(n_jobs=1)]: Done  17 tasks      | elapsed:    0.3s\n",
            "[Parallel(n_jobs=1)]: Done  71 tasks      | elapsed:    1.1s\n",
            "[Parallel(n_jobs=1)]: Done  74 out of  74 | elapsed:    1.1s finished\n"
          ]
        },
        {
          "output_type": "stream",
          "name": "stdout",
          "text": [
            "Failed on /content/drive/MyDrive/SRL/EEG_Data/OpenNeuro_ds002718_VideoGame/sub-003/eeg/sub-003_task-FaceRecognition_eeg.set: Found input variables with inconsistent numbers of samples: [74, 300]\n",
            "\n",
            "Analyzing sub-004_task-FaceRecognition_eeg.set\n"
          ]
        },
        {
          "output_type": "stream",
          "name": "stderr",
          "text": [
            "<ipython-input-10-a9ee581729ef>:36: RuntimeWarning: Unknown types found, setting as type EEG:\n",
            "ekg: ['EEG063', 'EEG064']\n",
            "heog: ['EEG061']\n",
            "veog: ['EEG062']\n",
            "  raw = mne.io.read_raw_eeglab(eeg_path, preload=True)\n"
          ]
        },
        {
          "output_type": "stream",
          "name": "stdout",
          "text": [
            "Filtering raw data in 1 contiguous segment\n",
            "Setting up band-pass filter from 1 - 40 Hz\n",
            "\n",
            "FIR filter parameters\n",
            "---------------------\n",
            "Designing a one-pass, zero-phase, non-causal bandpass filter:\n",
            "- Windowed time-domain design (firwin) method\n",
            "- Hamming window with 0.0194 passband ripple and 53 dB stopband attenuation\n",
            "- Lower passband edge: 1.00\n",
            "- Lower transition bandwidth: 1.00 Hz (-6 dB cutoff frequency: 0.50 Hz)\n",
            "- Upper passband edge: 40.00 Hz\n",
            "- Upper transition bandwidth: 10.00 Hz (-6 dB cutoff frequency: 45.00 Hz)\n",
            "- Filter length: 825 samples (3.300 s)\n",
            "\n"
          ]
        },
        {
          "output_type": "stream",
          "name": "stderr",
          "text": [
            "<ipython-input-10-a9ee581729ef>:36: RuntimeWarning: The data contains 'boundary' events, indicating data discontinuities. Be cautious of filtering and epoching around these events.\n",
            "  raw = mne.io.read_raw_eeglab(eeg_path, preload=True)\n",
            "[Parallel(n_jobs=1)]: Done  17 tasks      | elapsed:    0.3s\n",
            "[Parallel(n_jobs=1)]: Done  71 tasks      | elapsed:    1.1s\n",
            "[Parallel(n_jobs=1)]: Done  74 out of  74 | elapsed:    1.1s finished\n"
          ]
        },
        {
          "output_type": "stream",
          "name": "stdout",
          "text": [
            "Failed on /content/drive/MyDrive/SRL/EEG_Data/OpenNeuro_ds002718_VideoGame/sub-004/eeg/sub-004_task-FaceRecognition_eeg.set: Found input variables with inconsistent numbers of samples: [74, 300]\n",
            "\n",
            "Analyzing sub-005_task-FaceRecognition_eeg.set\n"
          ]
        },
        {
          "output_type": "stream",
          "name": "stderr",
          "text": [
            "<ipython-input-10-a9ee581729ef>:36: RuntimeWarning: Unknown types found, setting as type EEG:\n",
            "ekg: ['EEG063', 'EEG064']\n",
            "heog: ['EEG061']\n",
            "veog: ['EEG062']\n",
            "  raw = mne.io.read_raw_eeglab(eeg_path, preload=True)\n"
          ]
        },
        {
          "output_type": "stream",
          "name": "stdout",
          "text": [
            "Filtering raw data in 1 contiguous segment\n",
            "Setting up band-pass filter from 1 - 40 Hz\n",
            "\n",
            "FIR filter parameters\n",
            "---------------------\n",
            "Designing a one-pass, zero-phase, non-causal bandpass filter:\n",
            "- Windowed time-domain design (firwin) method\n",
            "- Hamming window with 0.0194 passband ripple and 53 dB stopband attenuation\n",
            "- Lower passband edge: 1.00\n",
            "- Lower transition bandwidth: 1.00 Hz (-6 dB cutoff frequency: 0.50 Hz)\n",
            "- Upper passband edge: 40.00 Hz\n",
            "- Upper transition bandwidth: 10.00 Hz (-6 dB cutoff frequency: 45.00 Hz)\n",
            "- Filter length: 825 samples (3.300 s)\n",
            "\n"
          ]
        },
        {
          "output_type": "stream",
          "name": "stderr",
          "text": [
            "<ipython-input-10-a9ee581729ef>:36: RuntimeWarning: The data contains 'boundary' events, indicating data discontinuities. Be cautious of filtering and epoching around these events.\n",
            "  raw = mne.io.read_raw_eeglab(eeg_path, preload=True)\n",
            "[Parallel(n_jobs=1)]: Done  17 tasks      | elapsed:    0.3s\n",
            "[Parallel(n_jobs=1)]: Done  71 tasks      | elapsed:    1.1s\n",
            "[Parallel(n_jobs=1)]: Done  74 out of  74 | elapsed:    1.2s finished\n"
          ]
        },
        {
          "output_type": "stream",
          "name": "stdout",
          "text": [
            "Failed on /content/drive/MyDrive/SRL/EEG_Data/OpenNeuro_ds002718_VideoGame/sub-005/eeg/sub-005_task-FaceRecognition_eeg.set: Found input variables with inconsistent numbers of samples: [74, 300]\n",
            "\n",
            "Analyzing sub-006_task-FaceRecognition_eeg.set\n"
          ]
        },
        {
          "output_type": "stream",
          "name": "stderr",
          "text": [
            "<ipython-input-10-a9ee581729ef>:36: RuntimeWarning: Unknown types found, setting as type EEG:\n",
            "ekg: ['EEG063', 'EEG064']\n",
            "heog: ['EEG061']\n",
            "veog: ['EEG062']\n",
            "  raw = mne.io.read_raw_eeglab(eeg_path, preload=True)\n"
          ]
        },
        {
          "output_type": "stream",
          "name": "stdout",
          "text": [
            "Filtering raw data in 1 contiguous segment\n",
            "Setting up band-pass filter from 1 - 40 Hz\n",
            "\n",
            "FIR filter parameters\n",
            "---------------------\n",
            "Designing a one-pass, zero-phase, non-causal bandpass filter:\n",
            "- Windowed time-domain design (firwin) method\n",
            "- Hamming window with 0.0194 passband ripple and 53 dB stopband attenuation\n",
            "- Lower passband edge: 1.00\n",
            "- Lower transition bandwidth: 1.00 Hz (-6 dB cutoff frequency: 0.50 Hz)\n",
            "- Upper passband edge: 40.00 Hz\n",
            "- Upper transition bandwidth: 10.00 Hz (-6 dB cutoff frequency: 45.00 Hz)\n",
            "- Filter length: 825 samples (3.300 s)\n",
            "\n"
          ]
        },
        {
          "output_type": "stream",
          "name": "stderr",
          "text": [
            "<ipython-input-10-a9ee581729ef>:36: RuntimeWarning: The data contains 'boundary' events, indicating data discontinuities. Be cautious of filtering and epoching around these events.\n",
            "  raw = mne.io.read_raw_eeglab(eeg_path, preload=True)\n",
            "[Parallel(n_jobs=1)]: Done  17 tasks      | elapsed:    0.3s\n",
            "[Parallel(n_jobs=1)]: Done  71 tasks      | elapsed:    1.1s\n",
            "[Parallel(n_jobs=1)]: Done  74 out of  74 | elapsed:    1.2s finished\n"
          ]
        },
        {
          "output_type": "stream",
          "name": "stdout",
          "text": [
            "Failed on /content/drive/MyDrive/SRL/EEG_Data/OpenNeuro_ds002718_VideoGame/sub-006/eeg/sub-006_task-FaceRecognition_eeg.set: Found input variables with inconsistent numbers of samples: [74, 300]\n",
            "\n",
            "Analyzing sub-007_task-FaceRecognition_eeg.set\n"
          ]
        },
        {
          "output_type": "stream",
          "name": "stderr",
          "text": [
            "<ipython-input-10-a9ee581729ef>:36: RuntimeWarning: Unknown types found, setting as type EEG:\n",
            "ekg: ['EEG063', 'EEG064']\n",
            "heog: ['EEG061']\n",
            "veog: ['EEG062']\n",
            "  raw = mne.io.read_raw_eeglab(eeg_path, preload=True)\n",
            "<ipython-input-10-a9ee581729ef>:36: RuntimeWarning: Estimated head radius (11.1 cm) is above the 99th percentile for adult head size. Check if the montage_units argument is correct (the default is \"mm\", but your channel positions may be in different units).\n",
            "  raw = mne.io.read_raw_eeglab(eeg_path, preload=True)\n"
          ]
        },
        {
          "output_type": "stream",
          "name": "stdout",
          "text": [
            "Filtering raw data in 1 contiguous segment\n",
            "Setting up band-pass filter from 1 - 40 Hz\n",
            "\n",
            "FIR filter parameters\n",
            "---------------------\n",
            "Designing a one-pass, zero-phase, non-causal bandpass filter:\n",
            "- Windowed time-domain design (firwin) method\n",
            "- Hamming window with 0.0194 passband ripple and 53 dB stopband attenuation\n",
            "- Lower passband edge: 1.00\n",
            "- Lower transition bandwidth: 1.00 Hz (-6 dB cutoff frequency: 0.50 Hz)\n",
            "- Upper passband edge: 40.00 Hz\n",
            "- Upper transition bandwidth: 10.00 Hz (-6 dB cutoff frequency: 45.00 Hz)\n",
            "- Filter length: 825 samples (3.300 s)\n",
            "\n"
          ]
        },
        {
          "output_type": "stream",
          "name": "stderr",
          "text": [
            "<ipython-input-10-a9ee581729ef>:36: RuntimeWarning: The data contains 'boundary' events, indicating data discontinuities. Be cautious of filtering and epoching around these events.\n",
            "  raw = mne.io.read_raw_eeglab(eeg_path, preload=True)\n",
            "[Parallel(n_jobs=1)]: Done  17 tasks      | elapsed:    0.3s\n",
            "[Parallel(n_jobs=1)]: Done  71 tasks      | elapsed:    1.1s\n",
            "[Parallel(n_jobs=1)]: Done  74 out of  74 | elapsed:    1.2s finished\n"
          ]
        },
        {
          "output_type": "stream",
          "name": "stdout",
          "text": [
            "Failed on /content/drive/MyDrive/SRL/EEG_Data/OpenNeuro_ds002718_VideoGame/sub-007/eeg/sub-007_task-FaceRecognition_eeg.set: Found input variables with inconsistent numbers of samples: [74, 300]\n",
            "\n",
            "Analyzing sub-008_task-FaceRecognition_eeg.set\n"
          ]
        },
        {
          "output_type": "stream",
          "name": "stderr",
          "text": [
            "<ipython-input-10-a9ee581729ef>:36: RuntimeWarning: Unknown types found, setting as type EEG:\n",
            "ekg: ['EEG063', 'EEG064']\n",
            "heog: ['EEG061']\n",
            "veog: ['EEG062']\n",
            "  raw = mne.io.read_raw_eeglab(eeg_path, preload=True)\n"
          ]
        },
        {
          "output_type": "stream",
          "name": "stdout",
          "text": [
            "Filtering raw data in 1 contiguous segment\n",
            "Setting up band-pass filter from 1 - 40 Hz\n",
            "\n",
            "FIR filter parameters\n",
            "---------------------\n",
            "Designing a one-pass, zero-phase, non-causal bandpass filter:\n",
            "- Windowed time-domain design (firwin) method\n",
            "- Hamming window with 0.0194 passband ripple and 53 dB stopband attenuation\n",
            "- Lower passband edge: 1.00\n",
            "- Lower transition bandwidth: 1.00 Hz (-6 dB cutoff frequency: 0.50 Hz)\n",
            "- Upper passband edge: 40.00 Hz\n",
            "- Upper transition bandwidth: 10.00 Hz (-6 dB cutoff frequency: 45.00 Hz)\n",
            "- Filter length: 825 samples (3.300 s)\n",
            "\n"
          ]
        },
        {
          "output_type": "stream",
          "name": "stderr",
          "text": [
            "<ipython-input-10-a9ee581729ef>:36: RuntimeWarning: The data contains 'boundary' events, indicating data discontinuities. Be cautious of filtering and epoching around these events.\n",
            "  raw = mne.io.read_raw_eeglab(eeg_path, preload=True)\n",
            "[Parallel(n_jobs=1)]: Done  17 tasks      | elapsed:    0.3s\n",
            "[Parallel(n_jobs=1)]: Done  71 tasks      | elapsed:    1.1s\n",
            "[Parallel(n_jobs=1)]: Done  74 out of  74 | elapsed:    1.2s finished\n"
          ]
        },
        {
          "output_type": "stream",
          "name": "stdout",
          "text": [
            "Failed on /content/drive/MyDrive/SRL/EEG_Data/OpenNeuro_ds002718_VideoGame/sub-008/eeg/sub-008_task-FaceRecognition_eeg.set: Found input variables with inconsistent numbers of samples: [74, 300]\n",
            "\n",
            "Analyzing sub-009_task-FaceRecognition_eeg.set\n"
          ]
        },
        {
          "output_type": "stream",
          "name": "stderr",
          "text": [
            "<ipython-input-10-a9ee581729ef>:36: RuntimeWarning: Unknown types found, setting as type EEG:\n",
            "ekg: ['EEG063', 'EEG064']\n",
            "heog: ['EEG061']\n",
            "veog: ['EEG062']\n",
            "  raw = mne.io.read_raw_eeglab(eeg_path, preload=True)\n"
          ]
        },
        {
          "output_type": "stream",
          "name": "stdout",
          "text": [
            "Filtering raw data in 1 contiguous segment\n",
            "Setting up band-pass filter from 1 - 40 Hz\n",
            "\n",
            "FIR filter parameters\n",
            "---------------------\n",
            "Designing a one-pass, zero-phase, non-causal bandpass filter:\n",
            "- Windowed time-domain design (firwin) method\n",
            "- Hamming window with 0.0194 passband ripple and 53 dB stopband attenuation\n",
            "- Lower passband edge: 1.00\n",
            "- Lower transition bandwidth: 1.00 Hz (-6 dB cutoff frequency: 0.50 Hz)\n",
            "- Upper passband edge: 40.00 Hz\n",
            "- Upper transition bandwidth: 10.00 Hz (-6 dB cutoff frequency: 45.00 Hz)\n",
            "- Filter length: 825 samples (3.300 s)\n",
            "\n"
          ]
        },
        {
          "output_type": "stream",
          "name": "stderr",
          "text": [
            "<ipython-input-10-a9ee581729ef>:36: RuntimeWarning: The data contains 'boundary' events, indicating data discontinuities. Be cautious of filtering and epoching around these events.\n",
            "  raw = mne.io.read_raw_eeglab(eeg_path, preload=True)\n",
            "[Parallel(n_jobs=1)]: Done  17 tasks      | elapsed:    0.3s\n",
            "[Parallel(n_jobs=1)]: Done  71 tasks      | elapsed:    1.1s\n",
            "[Parallel(n_jobs=1)]: Done  74 out of  74 | elapsed:    1.1s finished\n"
          ]
        },
        {
          "output_type": "stream",
          "name": "stdout",
          "text": [
            "Failed on /content/drive/MyDrive/SRL/EEG_Data/OpenNeuro_ds002718_VideoGame/sub-009/eeg/sub-009_task-FaceRecognition_eeg.set: Found input variables with inconsistent numbers of samples: [74, 300]\n",
            "\n",
            "Analyzing sub-010_task-FaceRecognition_eeg.set\n"
          ]
        },
        {
          "output_type": "stream",
          "name": "stderr",
          "text": [
            "<ipython-input-10-a9ee581729ef>:36: RuntimeWarning: Unknown types found, setting as type EEG:\n",
            "ekg: ['EEG063', 'EEG064']\n",
            "heog: ['EEG061']\n",
            "veog: ['EEG062']\n",
            "  raw = mne.io.read_raw_eeglab(eeg_path, preload=True)\n",
            "<ipython-input-10-a9ee581729ef>:36: RuntimeWarning: Estimated head radius (11.0 cm) is above the 99th percentile for adult head size. Check if the montage_units argument is correct (the default is \"mm\", but your channel positions may be in different units).\n",
            "  raw = mne.io.read_raw_eeglab(eeg_path, preload=True)\n"
          ]
        },
        {
          "output_type": "stream",
          "name": "stdout",
          "text": [
            "Filtering raw data in 1 contiguous segment\n",
            "Setting up band-pass filter from 1 - 40 Hz\n",
            "\n",
            "FIR filter parameters\n",
            "---------------------\n",
            "Designing a one-pass, zero-phase, non-causal bandpass filter:\n",
            "- Windowed time-domain design (firwin) method\n",
            "- Hamming window with 0.0194 passband ripple and 53 dB stopband attenuation\n",
            "- Lower passband edge: 1.00\n",
            "- Lower transition bandwidth: 1.00 Hz (-6 dB cutoff frequency: 0.50 Hz)\n",
            "- Upper passband edge: 40.00 Hz\n",
            "- Upper transition bandwidth: 10.00 Hz (-6 dB cutoff frequency: 45.00 Hz)\n",
            "- Filter length: 825 samples (3.300 s)\n",
            "\n"
          ]
        },
        {
          "output_type": "stream",
          "name": "stderr",
          "text": [
            "<ipython-input-10-a9ee581729ef>:36: RuntimeWarning: The data contains 'boundary' events, indicating data discontinuities. Be cautious of filtering and epoching around these events.\n",
            "  raw = mne.io.read_raw_eeglab(eeg_path, preload=True)\n",
            "[Parallel(n_jobs=1)]: Done  17 tasks      | elapsed:    0.3s\n",
            "[Parallel(n_jobs=1)]: Done  71 tasks      | elapsed:    1.1s\n",
            "[Parallel(n_jobs=1)]: Done  74 out of  74 | elapsed:    1.1s finished\n"
          ]
        },
        {
          "output_type": "stream",
          "name": "stdout",
          "text": [
            "Failed on /content/drive/MyDrive/SRL/EEG_Data/OpenNeuro_ds002718_VideoGame/sub-010/eeg/sub-010_task-FaceRecognition_eeg.set: Found input variables with inconsistent numbers of samples: [74, 300]\n",
            "\n",
            "Analyzing sub-011_task-FaceRecognition_eeg.set\n"
          ]
        },
        {
          "output_type": "stream",
          "name": "stderr",
          "text": [
            "<ipython-input-10-a9ee581729ef>:36: RuntimeWarning: Unknown types found, setting as type EEG:\n",
            "ekg: ['EEG063', 'EEG064']\n",
            "heog: ['EEG061']\n",
            "veog: ['EEG062']\n",
            "  raw = mne.io.read_raw_eeglab(eeg_path, preload=True)\n",
            "<ipython-input-10-a9ee581729ef>:36: RuntimeWarning: Estimated head radius (11.0 cm) is above the 99th percentile for adult head size. Check if the montage_units argument is correct (the default is \"mm\", but your channel positions may be in different units).\n",
            "  raw = mne.io.read_raw_eeglab(eeg_path, preload=True)\n"
          ]
        },
        {
          "output_type": "stream",
          "name": "stdout",
          "text": [
            "Filtering raw data in 1 contiguous segment\n",
            "Setting up band-pass filter from 1 - 40 Hz\n",
            "\n",
            "FIR filter parameters\n",
            "---------------------\n",
            "Designing a one-pass, zero-phase, non-causal bandpass filter:\n",
            "- Windowed time-domain design (firwin) method\n",
            "- Hamming window with 0.0194 passband ripple and 53 dB stopband attenuation\n",
            "- Lower passband edge: 1.00\n",
            "- Lower transition bandwidth: 1.00 Hz (-6 dB cutoff frequency: 0.50 Hz)\n",
            "- Upper passband edge: 40.00 Hz\n",
            "- Upper transition bandwidth: 10.00 Hz (-6 dB cutoff frequency: 45.00 Hz)\n",
            "- Filter length: 825 samples (3.300 s)\n",
            "\n"
          ]
        },
        {
          "output_type": "stream",
          "name": "stderr",
          "text": [
            "<ipython-input-10-a9ee581729ef>:36: RuntimeWarning: The data contains 'boundary' events, indicating data discontinuities. Be cautious of filtering and epoching around these events.\n",
            "  raw = mne.io.read_raw_eeglab(eeg_path, preload=True)\n",
            "[Parallel(n_jobs=1)]: Done  17 tasks      | elapsed:    0.3s\n",
            "[Parallel(n_jobs=1)]: Done  71 tasks      | elapsed:    1.1s\n",
            "[Parallel(n_jobs=1)]: Done  74 out of  74 | elapsed:    1.1s finished\n"
          ]
        },
        {
          "output_type": "stream",
          "name": "stdout",
          "text": [
            "Failed on /content/drive/MyDrive/SRL/EEG_Data/OpenNeuro_ds002718_VideoGame/sub-011/eeg/sub-011_task-FaceRecognition_eeg.set: Found input variables with inconsistent numbers of samples: [74, 300]\n",
            "\n",
            "Analyzing sub-012_task-FaceRecognition_eeg.set\n"
          ]
        },
        {
          "output_type": "stream",
          "name": "stderr",
          "text": [
            "<ipython-input-10-a9ee581729ef>:36: RuntimeWarning: Unknown types found, setting as type EEG:\n",
            "ekg: ['EEG063', 'EEG064']\n",
            "heog: ['EEG061']\n",
            "veog: ['EEG062']\n",
            "  raw = mne.io.read_raw_eeglab(eeg_path, preload=True)\n"
          ]
        },
        {
          "output_type": "stream",
          "name": "stdout",
          "text": [
            "Filtering raw data in 1 contiguous segment\n",
            "Setting up band-pass filter from 1 - 40 Hz\n",
            "\n",
            "FIR filter parameters\n",
            "---------------------\n",
            "Designing a one-pass, zero-phase, non-causal bandpass filter:\n",
            "- Windowed time-domain design (firwin) method\n",
            "- Hamming window with 0.0194 passband ripple and 53 dB stopband attenuation\n",
            "- Lower passband edge: 1.00\n",
            "- Lower transition bandwidth: 1.00 Hz (-6 dB cutoff frequency: 0.50 Hz)\n",
            "- Upper passband edge: 40.00 Hz\n",
            "- Upper transition bandwidth: 10.00 Hz (-6 dB cutoff frequency: 45.00 Hz)\n",
            "- Filter length: 825 samples (3.300 s)\n",
            "\n"
          ]
        },
        {
          "output_type": "stream",
          "name": "stderr",
          "text": [
            "<ipython-input-10-a9ee581729ef>:36: RuntimeWarning: The data contains 'boundary' events, indicating data discontinuities. Be cautious of filtering and epoching around these events.\n",
            "  raw = mne.io.read_raw_eeglab(eeg_path, preload=True)\n",
            "[Parallel(n_jobs=1)]: Done  17 tasks      | elapsed:    0.3s\n",
            "[Parallel(n_jobs=1)]: Done  71 tasks      | elapsed:    1.1s\n",
            "[Parallel(n_jobs=1)]: Done  74 out of  74 | elapsed:    1.1s finished\n"
          ]
        },
        {
          "output_type": "stream",
          "name": "stdout",
          "text": [
            "Failed on /content/drive/MyDrive/SRL/EEG_Data/OpenNeuro_ds002718_VideoGame/sub-012/eeg/sub-012_task-FaceRecognition_eeg.set: Found input variables with inconsistent numbers of samples: [74, 300]\n",
            "\n",
            "Analyzing sub-013_task-FaceRecognition_eeg.set\n"
          ]
        },
        {
          "output_type": "stream",
          "name": "stderr",
          "text": [
            "<ipython-input-10-a9ee581729ef>:36: RuntimeWarning: Unknown types found, setting as type EEG:\n",
            "ekg: ['EEG063', 'EEG064']\n",
            "heog: ['EEG061']\n",
            "veog: ['EEG062']\n",
            "  raw = mne.io.read_raw_eeglab(eeg_path, preload=True)\n"
          ]
        },
        {
          "output_type": "stream",
          "name": "stdout",
          "text": [
            "Filtering raw data in 1 contiguous segment\n",
            "Setting up band-pass filter from 1 - 40 Hz\n",
            "\n",
            "FIR filter parameters\n",
            "---------------------\n",
            "Designing a one-pass, zero-phase, non-causal bandpass filter:\n",
            "- Windowed time-domain design (firwin) method\n",
            "- Hamming window with 0.0194 passband ripple and 53 dB stopband attenuation\n",
            "- Lower passband edge: 1.00\n",
            "- Lower transition bandwidth: 1.00 Hz (-6 dB cutoff frequency: 0.50 Hz)\n",
            "- Upper passband edge: 40.00 Hz\n",
            "- Upper transition bandwidth: 10.00 Hz (-6 dB cutoff frequency: 45.00 Hz)\n",
            "- Filter length: 825 samples (3.300 s)\n",
            "\n"
          ]
        },
        {
          "output_type": "stream",
          "name": "stderr",
          "text": [
            "<ipython-input-10-a9ee581729ef>:36: RuntimeWarning: The data contains 'boundary' events, indicating data discontinuities. Be cautious of filtering and epoching around these events.\n",
            "  raw = mne.io.read_raw_eeglab(eeg_path, preload=True)\n",
            "[Parallel(n_jobs=1)]: Done  17 tasks      | elapsed:    0.3s\n",
            "[Parallel(n_jobs=1)]: Done  71 tasks      | elapsed:    1.1s\n",
            "[Parallel(n_jobs=1)]: Done  74 out of  74 | elapsed:    1.2s finished\n"
          ]
        },
        {
          "output_type": "stream",
          "name": "stdout",
          "text": [
            "Failed on /content/drive/MyDrive/SRL/EEG_Data/OpenNeuro_ds002718_VideoGame/sub-013/eeg/sub-013_task-FaceRecognition_eeg.set: Found input variables with inconsistent numbers of samples: [74, 300]\n",
            "\n",
            "Analyzing sub-014_task-FaceRecognition_eeg.set\n"
          ]
        },
        {
          "output_type": "stream",
          "name": "stderr",
          "text": [
            "<ipython-input-10-a9ee581729ef>:36: RuntimeWarning: Unknown types found, setting as type EEG:\n",
            "ekg: ['EEG063', 'EEG064']\n",
            "heog: ['EEG061']\n",
            "veog: ['EEG062']\n",
            "  raw = mne.io.read_raw_eeglab(eeg_path, preload=True)\n"
          ]
        },
        {
          "output_type": "stream",
          "name": "stdout",
          "text": [
            "Filtering raw data in 1 contiguous segment\n",
            "Setting up band-pass filter from 1 - 40 Hz\n",
            "\n",
            "FIR filter parameters\n",
            "---------------------\n",
            "Designing a one-pass, zero-phase, non-causal bandpass filter:\n",
            "- Windowed time-domain design (firwin) method\n",
            "- Hamming window with 0.0194 passband ripple and 53 dB stopband attenuation\n",
            "- Lower passband edge: 1.00\n",
            "- Lower transition bandwidth: 1.00 Hz (-6 dB cutoff frequency: 0.50 Hz)\n",
            "- Upper passband edge: 40.00 Hz\n",
            "- Upper transition bandwidth: 10.00 Hz (-6 dB cutoff frequency: 45.00 Hz)\n",
            "- Filter length: 825 samples (3.300 s)\n",
            "\n"
          ]
        },
        {
          "output_type": "stream",
          "name": "stderr",
          "text": [
            "<ipython-input-10-a9ee581729ef>:36: RuntimeWarning: The data contains 'boundary' events, indicating data discontinuities. Be cautious of filtering and epoching around these events.\n",
            "  raw = mne.io.read_raw_eeglab(eeg_path, preload=True)\n",
            "[Parallel(n_jobs=1)]: Done  17 tasks      | elapsed:    0.3s\n",
            "[Parallel(n_jobs=1)]: Done  71 tasks      | elapsed:    1.1s\n",
            "[Parallel(n_jobs=1)]: Done  74 out of  74 | elapsed:    1.2s finished\n"
          ]
        },
        {
          "output_type": "stream",
          "name": "stdout",
          "text": [
            "Failed on /content/drive/MyDrive/SRL/EEG_Data/OpenNeuro_ds002718_VideoGame/sub-014/eeg/sub-014_task-FaceRecognition_eeg.set: Found input variables with inconsistent numbers of samples: [74, 300]\n",
            "\n",
            "Analyzing sub-015_task-FaceRecognition_eeg.set\n"
          ]
        },
        {
          "output_type": "stream",
          "name": "stderr",
          "text": [
            "<ipython-input-10-a9ee581729ef>:36: RuntimeWarning: Unknown types found, setting as type EEG:\n",
            "ekg: ['EEG063', 'EEG064']\n",
            "heog: ['EEG061']\n",
            "veog: ['EEG062']\n",
            "  raw = mne.io.read_raw_eeglab(eeg_path, preload=True)\n"
          ]
        },
        {
          "output_type": "stream",
          "name": "stdout",
          "text": [
            "Filtering raw data in 1 contiguous segment\n",
            "Setting up band-pass filter from 1 - 40 Hz\n",
            "\n",
            "FIR filter parameters\n",
            "---------------------\n",
            "Designing a one-pass, zero-phase, non-causal bandpass filter:\n",
            "- Windowed time-domain design (firwin) method\n",
            "- Hamming window with 0.0194 passband ripple and 53 dB stopband attenuation\n",
            "- Lower passband edge: 1.00\n",
            "- Lower transition bandwidth: 1.00 Hz (-6 dB cutoff frequency: 0.50 Hz)\n",
            "- Upper passband edge: 40.00 Hz\n",
            "- Upper transition bandwidth: 10.00 Hz (-6 dB cutoff frequency: 45.00 Hz)\n",
            "- Filter length: 825 samples (3.300 s)\n",
            "\n"
          ]
        },
        {
          "output_type": "stream",
          "name": "stderr",
          "text": [
            "<ipython-input-10-a9ee581729ef>:36: RuntimeWarning: The data contains 'boundary' events, indicating data discontinuities. Be cautious of filtering and epoching around these events.\n",
            "  raw = mne.io.read_raw_eeglab(eeg_path, preload=True)\n",
            "[Parallel(n_jobs=1)]: Done  17 tasks      | elapsed:    0.3s\n",
            "[Parallel(n_jobs=1)]: Done  71 tasks      | elapsed:    1.1s\n",
            "[Parallel(n_jobs=1)]: Done  74 out of  74 | elapsed:    1.1s finished\n"
          ]
        },
        {
          "output_type": "stream",
          "name": "stdout",
          "text": [
            "Failed on /content/drive/MyDrive/SRL/EEG_Data/OpenNeuro_ds002718_VideoGame/sub-015/eeg/sub-015_task-FaceRecognition_eeg.set: Found input variables with inconsistent numbers of samples: [74, 300]\n",
            "\n",
            "Analyzing sub-016_task-FaceRecognition_eeg.set\n"
          ]
        },
        {
          "output_type": "stream",
          "name": "stderr",
          "text": [
            "<ipython-input-10-a9ee581729ef>:36: RuntimeWarning: Unknown types found, setting as type EEG:\n",
            "ekg: ['EEG063', 'EEG064']\n",
            "heog: ['EEG061']\n",
            "veog: ['EEG062']\n",
            "  raw = mne.io.read_raw_eeglab(eeg_path, preload=True)\n"
          ]
        },
        {
          "output_type": "stream",
          "name": "stdout",
          "text": [
            "Filtering raw data in 1 contiguous segment\n",
            "Setting up band-pass filter from 1 - 40 Hz\n",
            "\n",
            "FIR filter parameters\n",
            "---------------------\n",
            "Designing a one-pass, zero-phase, non-causal bandpass filter:\n",
            "- Windowed time-domain design (firwin) method\n",
            "- Hamming window with 0.0194 passband ripple and 53 dB stopband attenuation\n",
            "- Lower passband edge: 1.00\n",
            "- Lower transition bandwidth: 1.00 Hz (-6 dB cutoff frequency: 0.50 Hz)\n",
            "- Upper passband edge: 40.00 Hz\n",
            "- Upper transition bandwidth: 10.00 Hz (-6 dB cutoff frequency: 45.00 Hz)\n",
            "- Filter length: 825 samples (3.300 s)\n",
            "\n"
          ]
        },
        {
          "output_type": "stream",
          "name": "stderr",
          "text": [
            "<ipython-input-10-a9ee581729ef>:36: RuntimeWarning: The data contains 'boundary' events, indicating data discontinuities. Be cautious of filtering and epoching around these events.\n",
            "  raw = mne.io.read_raw_eeglab(eeg_path, preload=True)\n",
            "[Parallel(n_jobs=1)]: Done  17 tasks      | elapsed:    0.3s\n",
            "[Parallel(n_jobs=1)]: Done  71 tasks      | elapsed:    1.1s\n",
            "[Parallel(n_jobs=1)]: Done  74 out of  74 | elapsed:    1.1s finished\n"
          ]
        },
        {
          "output_type": "stream",
          "name": "stdout",
          "text": [
            "Failed on /content/drive/MyDrive/SRL/EEG_Data/OpenNeuro_ds002718_VideoGame/sub-016/eeg/sub-016_task-FaceRecognition_eeg.set: Found input variables with inconsistent numbers of samples: [74, 300]\n",
            "\n",
            "Analyzing sub-017_task-FaceRecognition_eeg.set\n"
          ]
        },
        {
          "output_type": "stream",
          "name": "stderr",
          "text": [
            "<ipython-input-10-a9ee581729ef>:36: RuntimeWarning: Unknown types found, setting as type EEG:\n",
            "ekg: ['EEG063', 'EEG064']\n",
            "heog: ['EEG061']\n",
            "veog: ['EEG062']\n",
            "  raw = mne.io.read_raw_eeglab(eeg_path, preload=True)\n"
          ]
        },
        {
          "output_type": "stream",
          "name": "stdout",
          "text": [
            "Filtering raw data in 1 contiguous segment\n",
            "Setting up band-pass filter from 1 - 40 Hz\n",
            "\n",
            "FIR filter parameters\n",
            "---------------------\n",
            "Designing a one-pass, zero-phase, non-causal bandpass filter:\n",
            "- Windowed time-domain design (firwin) method\n",
            "- Hamming window with 0.0194 passband ripple and 53 dB stopband attenuation\n",
            "- Lower passband edge: 1.00\n",
            "- Lower transition bandwidth: 1.00 Hz (-6 dB cutoff frequency: 0.50 Hz)\n",
            "- Upper passband edge: 40.00 Hz\n",
            "- Upper transition bandwidth: 10.00 Hz (-6 dB cutoff frequency: 45.00 Hz)\n",
            "- Filter length: 825 samples (3.300 s)\n",
            "\n"
          ]
        },
        {
          "output_type": "stream",
          "name": "stderr",
          "text": [
            "<ipython-input-10-a9ee581729ef>:36: RuntimeWarning: The data contains 'boundary' events, indicating data discontinuities. Be cautious of filtering and epoching around these events.\n",
            "  raw = mne.io.read_raw_eeglab(eeg_path, preload=True)\n",
            "[Parallel(n_jobs=1)]: Done  17 tasks      | elapsed:    0.3s\n",
            "[Parallel(n_jobs=1)]: Done  71 tasks      | elapsed:    1.1s\n",
            "[Parallel(n_jobs=1)]: Done  74 out of  74 | elapsed:    1.2s finished\n"
          ]
        },
        {
          "output_type": "stream",
          "name": "stdout",
          "text": [
            "Failed on /content/drive/MyDrive/SRL/EEG_Data/OpenNeuro_ds002718_VideoGame/sub-017/eeg/sub-017_task-FaceRecognition_eeg.set: Found input variables with inconsistent numbers of samples: [74, 300]\n",
            "\n",
            "Analyzing sub-018_task-FaceRecognition_eeg.set\n"
          ]
        },
        {
          "output_type": "stream",
          "name": "stderr",
          "text": [
            "<ipython-input-10-a9ee581729ef>:36: RuntimeWarning: Unknown types found, setting as type EEG:\n",
            "ekg: ['EEG063', 'EEG064']\n",
            "heog: ['EEG061']\n",
            "veog: ['EEG062']\n",
            "  raw = mne.io.read_raw_eeglab(eeg_path, preload=True)\n"
          ]
        },
        {
          "output_type": "stream",
          "name": "stdout",
          "text": [
            "Filtering raw data in 1 contiguous segment\n",
            "Setting up band-pass filter from 1 - 40 Hz\n",
            "\n",
            "FIR filter parameters\n",
            "---------------------\n",
            "Designing a one-pass, zero-phase, non-causal bandpass filter:\n",
            "- Windowed time-domain design (firwin) method\n",
            "- Hamming window with 0.0194 passband ripple and 53 dB stopband attenuation\n",
            "- Lower passband edge: 1.00\n",
            "- Lower transition bandwidth: 1.00 Hz (-6 dB cutoff frequency: 0.50 Hz)\n",
            "- Upper passband edge: 40.00 Hz\n",
            "- Upper transition bandwidth: 10.00 Hz (-6 dB cutoff frequency: 45.00 Hz)\n",
            "- Filter length: 825 samples (3.300 s)\n",
            "\n"
          ]
        },
        {
          "output_type": "stream",
          "name": "stderr",
          "text": [
            "<ipython-input-10-a9ee581729ef>:36: RuntimeWarning: The data contains 'boundary' events, indicating data discontinuities. Be cautious of filtering and epoching around these events.\n",
            "  raw = mne.io.read_raw_eeglab(eeg_path, preload=True)\n",
            "[Parallel(n_jobs=1)]: Done  17 tasks      | elapsed:    0.3s\n",
            "[Parallel(n_jobs=1)]: Done  71 tasks      | elapsed:    1.1s\n",
            "[Parallel(n_jobs=1)]: Done  74 out of  74 | elapsed:    1.2s finished\n"
          ]
        },
        {
          "output_type": "stream",
          "name": "stdout",
          "text": [
            "Failed on /content/drive/MyDrive/SRL/EEG_Data/OpenNeuro_ds002718_VideoGame/sub-018/eeg/sub-018_task-FaceRecognition_eeg.set: Found input variables with inconsistent numbers of samples: [74, 300]\n",
            "\n",
            "Analyzing sub-019_task-FaceRecognition_eeg.set\n"
          ]
        },
        {
          "output_type": "stream",
          "name": "stderr",
          "text": [
            "<ipython-input-10-a9ee581729ef>:36: RuntimeWarning: Unknown types found, setting as type EEG:\n",
            "ekg: ['EEG063', 'EEG064']\n",
            "heog: ['EEG061']\n",
            "veog: ['EEG062']\n",
            "  raw = mne.io.read_raw_eeglab(eeg_path, preload=True)\n",
            "<ipython-input-10-a9ee581729ef>:36: RuntimeWarning: Estimated head radius (11.8 cm) is above the 99th percentile for adult head size. Check if the montage_units argument is correct (the default is \"mm\", but your channel positions may be in different units).\n",
            "  raw = mne.io.read_raw_eeglab(eeg_path, preload=True)\n"
          ]
        },
        {
          "output_type": "stream",
          "name": "stdout",
          "text": [
            "Filtering raw data in 1 contiguous segment\n",
            "Setting up band-pass filter from 1 - 40 Hz\n",
            "\n",
            "FIR filter parameters\n",
            "---------------------\n",
            "Designing a one-pass, zero-phase, non-causal bandpass filter:\n",
            "- Windowed time-domain design (firwin) method\n",
            "- Hamming window with 0.0194 passband ripple and 53 dB stopband attenuation\n",
            "- Lower passband edge: 1.00\n",
            "- Lower transition bandwidth: 1.00 Hz (-6 dB cutoff frequency: 0.50 Hz)\n",
            "- Upper passband edge: 40.00 Hz\n",
            "- Upper transition bandwidth: 10.00 Hz (-6 dB cutoff frequency: 45.00 Hz)\n",
            "- Filter length: 825 samples (3.300 s)\n",
            "\n"
          ]
        },
        {
          "output_type": "stream",
          "name": "stderr",
          "text": [
            "<ipython-input-10-a9ee581729ef>:36: RuntimeWarning: The data contains 'boundary' events, indicating data discontinuities. Be cautious of filtering and epoching around these events.\n",
            "  raw = mne.io.read_raw_eeglab(eeg_path, preload=True)\n",
            "[Parallel(n_jobs=1)]: Done  17 tasks      | elapsed:    0.3s\n",
            "[Parallel(n_jobs=1)]: Done  71 tasks      | elapsed:    1.1s\n",
            "[Parallel(n_jobs=1)]: Done  74 out of  74 | elapsed:    1.1s finished\n"
          ]
        },
        {
          "output_type": "stream",
          "name": "stdout",
          "text": [
            "Failed on /content/drive/MyDrive/SRL/EEG_Data/OpenNeuro_ds002718_VideoGame/sub-019/eeg/sub-019_task-FaceRecognition_eeg.set: Found input variables with inconsistent numbers of samples: [74, 300]\n",
            "\n",
            "✅ Saved summary to: /content/drive/MyDrive/SRL/phase8_eeg_symbolic_entropy_results.csv\n"
          ]
        }
      ]
    }
  ]
}